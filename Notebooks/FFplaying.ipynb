{
 "cells": [
  {
   "cell_type": "markdown",
   "metadata": {},
   "source": [
    "## Imports"
   ]
  },
  {
   "cell_type": "code",
   "execution_count": 1,
   "metadata": {},
   "outputs": [],
   "source": [
    "import numpy as np\n",
    "import pandas as pd\n",
    "\n",
    "import matplotlib.pyplot as plt\n",
    "import seaborn as sns\n",
    "\n",
    "from sklearn import preprocessing\n",
    "\n",
    "import warnings\n",
    "warnings.filterwarnings(\"ignore\")"
   ]
  },
  {
   "cell_type": "markdown",
   "metadata": {},
   "source": [
    "## Paths"
   ]
  },
  {
   "cell_type": "code",
   "execution_count": 2,
   "metadata": {},
   "outputs": [],
   "source": [
    "TRAIN = '../Data/df_train.csv'\n",
    "TEST = '../Data/df_test.csv'"
   ]
  },
  {
   "cell_type": "markdown",
   "metadata": {},
   "source": [
    "## Functions"
   ]
  },
  {
   "cell_type": "code",
   "execution_count": 3,
   "metadata": {},
   "outputs": [],
   "source": [
    "# code from exercise 5 to calculate the z-score\n",
    "z_score = lambda x : (x - np.mean(x, axis=0)) / np.std(x, axis=0)\n",
    "\n",
    "def conf_mat(y_hat, y_true):\n",
    "    '''Returns a confusion matrix'''\n",
    "    n = max(y_hat)+1\n",
    "    bingo = np.zeros([n,n])\n",
    "    for i in range(len(y_hat)):\n",
    "        bingo[y_true[i]][y_hat[i]] +=1\n",
    "    \n",
    "    return(bingo)\n",
    "\n",
    "def scores(y_hat, y_true, average = False):\n",
    "    '''For each class, returns recall, precision and f1'''\n",
    "    classes = list(np.unique(y_true))\n",
    "    conf = conf_mat(y_hat, y_true)\n",
    "    r = []\n",
    "    p = []\n",
    "    f = []\n",
    "    for c in classes:\n",
    "        recall = conf[c][c] / sum(conf[c])\n",
    "        precision = conf[c][c] / sum(conf[:, c])\n",
    "        f1 = 2*(precision*recall)/(precision + recall)\n",
    "        r.append(recall)\n",
    "        p.append(precision)\n",
    "        f.append(f1)\n",
    "    if average:\n",
    "        return sum(r)/len(r), sum(p)/len(p), sum(f)/len(f)\n",
    "    else:\n",
    "        return (r, p, f)"
   ]
  },
  {
   "cell_type": "markdown",
   "metadata": {},
   "source": [
    "## Variables and df loading"
   ]
  },
  {
   "cell_type": "code",
   "execution_count": 4,
   "metadata": {},
   "outputs": [
    {
     "data": {
      "text/html": [
       "<div>\n",
       "<style scoped>\n",
       "    .dataframe tbody tr th:only-of-type {\n",
       "        vertical-align: middle;\n",
       "    }\n",
       "\n",
       "    .dataframe tbody tr th {\n",
       "        vertical-align: top;\n",
       "    }\n",
       "\n",
       "    .dataframe thead th {\n",
       "        text-align: right;\n",
       "    }\n",
       "</style>\n",
       "<table border=\"1\" class=\"dataframe\">\n",
       "  <thead>\n",
       "    <tr style=\"text-align: right;\">\n",
       "      <th></th>\n",
       "      <th>RI</th>\n",
       "      <th>Na</th>\n",
       "      <th>Mg</th>\n",
       "      <th>Al</th>\n",
       "      <th>Si</th>\n",
       "      <th>K</th>\n",
       "      <th>Ca</th>\n",
       "      <th>Ba</th>\n",
       "      <th>Fe</th>\n",
       "      <th>type</th>\n",
       "    </tr>\n",
       "  </thead>\n",
       "  <tbody>\n",
       "    <tr>\n",
       "      <th>0</th>\n",
       "      <td>2.565103</td>\n",
       "      <td>-2.545930</td>\n",
       "      <td>-1.922352</td>\n",
       "      <td>-1.316840</td>\n",
       "      <td>0.751099</td>\n",
       "      <td>-0.854045</td>\n",
       "      <td>3.821565</td>\n",
       "      <td>-0.362309</td>\n",
       "      <td>-0.633117</td>\n",
       "      <td>1</td>\n",
       "    </tr>\n",
       "    <tr>\n",
       "      <th>1</th>\n",
       "      <td>-0.673512</td>\n",
       "      <td>-0.488702</td>\n",
       "      <td>0.603378</td>\n",
       "      <td>0.208615</td>\n",
       "      <td>0.264239</td>\n",
       "      <td>0.219743</td>\n",
       "      <td>-0.587138</td>\n",
       "      <td>-0.362309</td>\n",
       "      <td>-0.633117</td>\n",
       "      <td>1</td>\n",
       "    </tr>\n",
       "    <tr>\n",
       "      <th>2</th>\n",
       "      <td>-0.145715</td>\n",
       "      <td>0.092436</td>\n",
       "      <td>0.448165</td>\n",
       "      <td>0.386915</td>\n",
       "      <td>-0.876038</td>\n",
       "      <td>0.149331</td>\n",
       "      <td>-0.075888</td>\n",
       "      <td>-0.362309</td>\n",
       "      <td>0.291730</td>\n",
       "      <td>2</td>\n",
       "    </tr>\n",
       "    <tr>\n",
       "      <th>3</th>\n",
       "      <td>-0.576697</td>\n",
       "      <td>1.603395</td>\n",
       "      <td>-1.922352</td>\n",
       "      <td>1.100115</td>\n",
       "      <td>0.622978</td>\n",
       "      <td>-0.854045</td>\n",
       "      <td>-0.427787</td>\n",
       "      <td>2.738558</td>\n",
       "      <td>-0.633117</td>\n",
       "      <td>5</td>\n",
       "    </tr>\n",
       "    <tr>\n",
       "      <th>4</th>\n",
       "      <td>-0.617297</td>\n",
       "      <td>-0.023792</td>\n",
       "      <td>0.539882</td>\n",
       "      <td>0.168993</td>\n",
       "      <td>0.033621</td>\n",
       "      <td>0.325362</td>\n",
       "      <td>-0.560579</td>\n",
       "      <td>-0.362309</td>\n",
       "      <td>0.394491</td>\n",
       "      <td>1</td>\n",
       "    </tr>\n",
       "  </tbody>\n",
       "</table>\n",
       "</div>"
      ],
      "text/plain": [
       "         RI        Na        Mg        Al        Si         K        Ca  \\\n",
       "0  2.565103 -2.545930 -1.922352 -1.316840  0.751099 -0.854045  3.821565   \n",
       "1 -0.673512 -0.488702  0.603378  0.208615  0.264239  0.219743 -0.587138   \n",
       "2 -0.145715  0.092436  0.448165  0.386915 -0.876038  0.149331 -0.075888   \n",
       "3 -0.576697  1.603395 -1.922352  1.100115  0.622978 -0.854045 -0.427787   \n",
       "4 -0.617297 -0.023792  0.539882  0.168993  0.033621  0.325362 -0.560579   \n",
       "\n",
       "         Ba        Fe  type  \n",
       "0 -0.362309 -0.633117     1  \n",
       "1 -0.362309 -0.633117     1  \n",
       "2 -0.362309  0.291730     2  \n",
       "3  2.738558 -0.633117     5  \n",
       "4 -0.362309  0.394491     1  "
      ]
     },
     "execution_count": 4,
     "metadata": {},
     "output_type": "execute_result"
    }
   ],
   "source": [
    "col = 'rainbow' # Colour theme\n",
    "\n",
    "df = pd.read_csv(TRAIN) # Training dataframe\n",
    "a = len(df)\n",
    "\n",
    "#ensures data is without order, random state fixed for reproducability, frac=1 gives the whole df back but shuffled\n",
    "df = df.sample(frac=1, random_state=42).reset_index(drop=True)\n",
    "\n",
    "if a != len(df):\n",
    "    print('WARNING, DATA IS BEING LOST')#confirm still have the whole df\n",
    "\n",
    "attributes = list(df.columns)[:-1] # Creates list of column names for the dataframe without the class\n",
    "\n",
    "df[attributes] = z_score(df[attributes])\n",
    "\n",
    "X = df[attributes].copy() # Attributes\n",
    "y = df['type'].copy() # True values\n",
    "\n",
    "for i in range(len(y)):\n",
    "    if y[i] > 4:\n",
    "        y[i] = y[i] - 2\n",
    "    else:\n",
    "        y[i] = y[i] - 1\n",
    "        \n",
    "lb = preprocessing.LabelBinarizer()\n",
    "new_y = pd.DataFrame(lb.fit_transform(y))\n",
    "\n",
    "y_list = y.unique() # 'y' values\n",
    "\n",
    "#round(df.describe(),2)\n",
    "\n",
    "df['type'] = y\n",
    "\n",
    "df.head()"
   ]
  },
  {
   "cell_type": "code",
   "execution_count": 5,
   "metadata": {},
   "outputs": [],
   "source": [
    "#Activation functions:\n",
    "\n",
    "def sigmoid(x):\n",
    "    return 1 / (1 + np.exp(-x))\n",
    "\n",
    "def tanh(x):\n",
    "    return np.tanh(x)\n",
    "\n",
    "def relu(x): #Rectified Linear Unit\n",
    "    return np.maximum(0, x)\n"
   ]
  },
  {
   "cell_type": "markdown",
   "metadata": {},
   "source": [
    "Using ideas from:\n",
    "\n",
    "https://towardsdatascience.com/how-to-build-your-own-neural-network-from-scratch-in-python-68998a08e4f6\n",
    "\n",
    "https://hackernoon.com/building-a-feedforward-neural-network-from-scratch-in-python-d3526457156b\n",
    "\n",
    "https://machinelearningmastery.com/implement-backpropagation-algorithm-scratch-python/"
   ]
  },
  {
   "cell_type": "code",
   "execution_count": 15,
   "metadata": {},
   "outputs": [],
   "source": [
    "class NeuralNetwork:\n",
    "    \n",
    "    def __init__(self, X, y, bias=None, neurons=12, activation=sigmoid):\n",
    "        '''\n",
    "        neurons --> neurons per hidden layer\n",
    "        activation --> choose activation function\n",
    "        '''\n",
    "        \n",
    "        self.input = X #inputs\n",
    "        self.y = y #True values\n",
    "        self.output = np.zeros(self.y.shape)\n",
    "        \n",
    "        self.activation = activation\n",
    "        self.neurons = neurons\n",
    "        \n",
    "        self.weight1 = np.random.rand(X.shape[1], neurons) #(attributes in X,number of neurons)\n",
    "        self.weight2 = np.random.rand(neurons, neurons)\n",
    "        self.weight_final = np.random.rand(neurons, y.shape[1])\n",
    "\n",
    "        \n",
    "        self.bias1 = bias[0]\n",
    "        self.bias2 = bias[1]\n",
    "        self.bias_final = bias[-1]\n",
    "    \n",
    "    def sigmoid(self):\n",
    "        return 1 / (1 + np.exp(-self.x))\n",
    "\n",
    "    def tanh(self):\n",
    "        return np.tanh(self.x)\n",
    "\n",
    "    def relu(self): #Rectified Linear Unit\n",
    "        return np.maximum(0, self.x)\n",
    "       \n",
    "    def forwardpass(self, x):\n",
    "        # (x * w_0)\n",
    "        \n",
    "        self.layer1 = self.activation(x.dot(self.weight1) + self.bias1)\n",
    "        print(self.layer1.shape)\n",
    "        self.layer2 = self.activation(self.layer1.dot(self.weight2) + self.bias2)\n",
    "        print(self.layer2.shape)\n",
    "        self.outputlayer = self.activation(self.layer2.dot(self.weight_final) + self.bias_final)\n",
    "        print(self.outputlayer.shape)\n",
    "    \n",
    "    "
   ]
  },
  {
   "cell_type": "code",
   "execution_count": 16,
   "metadata": {},
   "outputs": [
    {
     "name": "stdout",
     "output_type": "stream",
     "text": [
      "(149, 12)\n",
      "(149, 12)\n",
      "(149, 6)\n"
     ]
    }
   ],
   "source": [
    "bias=np.array([0]*3)\n",
    "\n",
    "kitty = NeuralNetwork(X,new_y, bias = bias)\n",
    "kitty.weight1.shape, kitty.weight2.shape\n",
    "kitty.forwardpass(kitty.input)\n"
   ]
  },
  {
   "cell_type": "code",
   "execution_count": 17,
   "metadata": {},
   "outputs": [
    {
     "data": {
      "text/plain": [
       "(0    0.998836\n",
       " 1    0.996049\n",
       " 2    0.994277\n",
       " 3    0.994530\n",
       " 4    0.964192\n",
       " 5    0.995454\n",
       " Name: 0, dtype: float64,\n",
       " 0    0\n",
       " 1    1\n",
       " 2    0\n",
       " 3    0\n",
       " 4    0\n",
       " 5    0\n",
       " Name: 0, dtype: int32)"
      ]
     },
     "execution_count": 17,
     "metadata": {},
     "output_type": "execute_result"
    }
   ],
   "source": [
    "kitty.outputlayer.iloc[0], new_y.iloc[0]"
   ]
  },
  {
   "cell_type": "code",
   "execution_count": null,
   "metadata": {},
   "outputs": [],
   "source": []
  },
  {
   "cell_type": "code",
   "execution_count": null,
   "metadata": {},
   "outputs": [],
   "source": []
  },
  {
   "cell_type": "code",
   "execution_count": null,
   "metadata": {},
   "outputs": [],
   "source": []
  },
  {
   "cell_type": "code",
   "execution_count": null,
   "metadata": {},
   "outputs": [],
   "source": []
  },
  {
   "cell_type": "code",
   "execution_count": null,
   "metadata": {},
   "outputs": [],
   "source": []
  }
 ],
 "metadata": {
  "kernelspec": {
   "display_name": "Python 3",
   "language": "python",
   "name": "python3"
  },
  "language_info": {
   "codemirror_mode": {
    "name": "ipython",
    "version": 3
   },
   "file_extension": ".py",
   "mimetype": "text/x-python",
   "name": "python",
   "nbconvert_exporter": "python",
   "pygments_lexer": "ipython3",
   "version": "3.8.5"
  }
 },
 "nbformat": 4,
 "nbformat_minor": 4
}
