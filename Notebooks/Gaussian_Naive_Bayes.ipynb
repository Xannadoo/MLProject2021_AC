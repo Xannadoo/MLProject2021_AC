{
 "cells": [
  {
   "cell_type": "markdown",
   "metadata": {},
   "source": [
    "# ITU Machine Learning Fall 2021\n",
    "\n",
    "## Final Project: M3\n",
    "## 3rd Classification Method: Naive Bayes\n",
    "\n",
    "\n",
    "### Group AC\n",
    "Chrisanna Cornish <ccor@itu.dk> <br>\n",
    "Carl August Wismer <cwis@itu.dk><br>\n",
    "Danielle Marie Dequin <ddeq@itu.dk>\n",
    "\n",
    "Last Edited: 01/01/2022"
   ]
  },
  {
   "cell_type": "markdown",
   "metadata": {},
   "source": [
    "## Imports"
   ]
  },
  {
   "cell_type": "code",
   "execution_count": 1,
   "metadata": {},
   "outputs": [],
   "source": [
    "import numpy as np\n",
    "import pandas as pd\n",
    "\n",
    "import matplotlib.pyplot as plt\n",
    "import seaborn as sns\n",
    "\n",
    "from sklearn.naive_bayes import GaussianNB\n",
    "from sklearn.model_selection import train_test_split\n",
    "from sklearn import metrics\n",
    "\n",
    "from sklearn.decomposition import PCA\n",
    "from sklearn.model_selection import KFold\n",
    "from sklearn.metrics import *\n",
    "\n",
    "import warnings\n",
    "warnings.filterwarnings(\"ignore\")"
   ]
  },
  {
   "cell_type": "markdown",
   "metadata": {},
   "source": [
    "## Paths"
   ]
  },
  {
   "cell_type": "code",
   "execution_count": 2,
   "metadata": {},
   "outputs": [],
   "source": [
    "TRAIN = '../Data/df_train.csv'\n",
    "TEST = '../Data/df_test.csv'"
   ]
  },
  {
   "cell_type": "markdown",
   "metadata": {},
   "source": [
    "## Functions"
   ]
  },
  {
   "cell_type": "code",
   "execution_count": 3,
   "metadata": {},
   "outputs": [],
   "source": [
    "# code from exercise 5 to calculate the z-score\n",
    "z_score = lambda x : (x - np.mean(x, axis=0)) / np.std(x, axis=0)\n",
    "\n",
    "def scores(y_hat, y_true, average = False):\n",
    "    '''For each class, returns recall, precision and f1'''\n",
    "    classes = list(np.unique(y_true))\n",
    "    conf = conf_mat(y_hat, y_true)\n",
    "    r = []\n",
    "    p = []\n",
    "    f = []\n",
    "    for c in classes:\n",
    "        recall = conf[c][c] / sum(conf[c])\n",
    "        precision = conf[c][c] / sum(conf[:, c])\n",
    "        f1 = 2*(precision*recall)/(precision + recall)\n",
    "        r.append(recall)\n",
    "        p.append(precision)\n",
    "        f.append(f1)\n",
    "    if average:\n",
    "        return sum(r)/len(r), sum(p)/len(p), sum(f)/len(f)\n",
    "    else:\n",
    "        return (r, p, f)"
   ]
  },
  {
   "cell_type": "code",
   "execution_count": 4,
   "metadata": {},
   "outputs": [],
   "source": [
    "def plot_confusion_matrix(cm, target_names, title='Confusion matrix', cmap=None, normalize=True):\n",
    "    \"\"\"\n",
    "    Function copied from exercise 7.\n",
    "    ---------\n",
    "    http://scikit-learn.org/stable/auto_examples/model_selection/plot_confusion_matrix.html\n",
    "    \n",
    "    \"\"\"\n",
    "    import itertools\n",
    "\n",
    "    accuracy = np.trace(cm) / float(np.sum(cm))\n",
    "    misclass = 1 - accuracy\n",
    "\n",
    "    if cmap is None:\n",
    "        cmap = plt.get_cmap('Blues')\n",
    "\n",
    "    plt.figure(figsize=(8, 6))\n",
    "    plt.imshow(cm, interpolation='nearest', cmap=cmap)\n",
    "    plt.title(title)\n",
    "    plt.colorbar()\n",
    "    plt.ylim([-0.5, cm.shape[0]-0.5])\n",
    "\n",
    "    if target_names is not None:\n",
    "        tick_marks = np.arange(len(target_names))\n",
    "        plt.xticks(tick_marks, target_names, rotation=45)\n",
    "        plt.yticks(tick_marks, target_names)\n",
    "\n",
    "    if normalize:\n",
    "        cm = cm.astype('float') / cm.sum(axis=1)[:, np.newaxis]\n",
    "\n",
    "    thresh = cm.max() / 1.5 if normalize else cm.max() / 2\n",
    "    for i, j in itertools.product(range(cm.shape[0]), range(cm.shape[1])):\n",
    "        if normalize:\n",
    "            plt.text(j, i, \"{:0.4f}\".format(cm[i, j]),\n",
    "                     horizontalalignment=\"center\",\n",
    "                     color=\"white\" if cm[i, j] > thresh else \"black\")\n",
    "        else:\n",
    "            plt.text(j, i, \"{:,}\".format(cm[i, j]),\n",
    "                     horizontalalignment=\"center\",\n",
    "                     color=\"white\" if cm[i, j] > thresh else \"black\")\n",
    "\n",
    "    plt.tight_layout()\n",
    "    plt.ylabel('True label')\n",
    "    plt.xlabel('Predicted label\\naccuracy={:0.4f}; misclass={:0.4f}'.format(accuracy, misclass))\n",
    "    plt.show()"
   ]
  },
  {
   "cell_type": "markdown",
   "metadata": {},
   "source": [
    "## Variables and df loading"
   ]
  },
  {
   "cell_type": "code",
   "execution_count": 5,
   "metadata": {},
   "outputs": [
    {
     "name": "stdout",
     "output_type": "stream",
     "text": [
      "149\n",
      "149\n"
     ]
    },
    {
     "data": {
      "text/html": [
       "<div>\n",
       "<style scoped>\n",
       "    .dataframe tbody tr th:only-of-type {\n",
       "        vertical-align: middle;\n",
       "    }\n",
       "\n",
       "    .dataframe tbody tr th {\n",
       "        vertical-align: top;\n",
       "    }\n",
       "\n",
       "    .dataframe thead th {\n",
       "        text-align: right;\n",
       "    }\n",
       "</style>\n",
       "<table border=\"1\" class=\"dataframe\">\n",
       "  <thead>\n",
       "    <tr style=\"text-align: right;\">\n",
       "      <th></th>\n",
       "      <th>RI</th>\n",
       "      <th>Na</th>\n",
       "      <th>Mg</th>\n",
       "      <th>Al</th>\n",
       "      <th>Si</th>\n",
       "      <th>K</th>\n",
       "      <th>Ca</th>\n",
       "      <th>Ba</th>\n",
       "      <th>Fe</th>\n",
       "      <th>type</th>\n",
       "    </tr>\n",
       "  </thead>\n",
       "  <tbody>\n",
       "    <tr>\n",
       "      <th>0</th>\n",
       "      <td>1.52664</td>\n",
       "      <td>11.23</td>\n",
       "      <td>0.00</td>\n",
       "      <td>0.77</td>\n",
       "      <td>73.21</td>\n",
       "      <td>0.00</td>\n",
       "      <td>14.68</td>\n",
       "      <td>0.0</td>\n",
       "      <td>0.00</td>\n",
       "      <td>2</td>\n",
       "    </tr>\n",
       "    <tr>\n",
       "      <th>1</th>\n",
       "      <td>1.51627</td>\n",
       "      <td>13.00</td>\n",
       "      <td>3.58</td>\n",
       "      <td>1.54</td>\n",
       "      <td>72.83</td>\n",
       "      <td>0.61</td>\n",
       "      <td>8.04</td>\n",
       "      <td>0.0</td>\n",
       "      <td>0.00</td>\n",
       "      <td>2</td>\n",
       "    </tr>\n",
       "    <tr>\n",
       "      <th>2</th>\n",
       "      <td>1.51796</td>\n",
       "      <td>13.50</td>\n",
       "      <td>3.36</td>\n",
       "      <td>1.63</td>\n",
       "      <td>71.94</td>\n",
       "      <td>0.57</td>\n",
       "      <td>8.81</td>\n",
       "      <td>0.0</td>\n",
       "      <td>0.09</td>\n",
       "      <td>3</td>\n",
       "    </tr>\n",
       "  </tbody>\n",
       "</table>\n",
       "</div>"
      ],
      "text/plain": [
       "        RI     Na    Mg    Al     Si     K     Ca   Ba    Fe  type\n",
       "0  1.52664  11.23  0.00  0.77  73.21  0.00  14.68  0.0  0.00     2\n",
       "1  1.51627  13.00  3.58  1.54  72.83  0.61   8.04  0.0  0.00     2\n",
       "2  1.51796  13.50  3.36  1.63  71.94  0.57   8.81  0.0  0.09     3"
      ]
     },
     "execution_count": 5,
     "metadata": {},
     "output_type": "execute_result"
    }
   ],
   "source": [
    "col = 'rainbow' # Colour theme\n",
    "\n",
    "df = pd.read_csv(TRAIN) # Training dataframe\n",
    "print(len(df))\n",
    "\n",
    "# ensures data is without order, random state fixed for reproducability, frac=1 gives the whole df back but shuffled\n",
    "df = df.sample(frac=1, random_state=42).reset_index(drop=True)\n",
    "\n",
    "print(len(df)) # confirm still have the whole df\n",
    "\n",
    "attributes = list(df.columns)[:-1] # Creates list of column names for the dataframe without the class\n",
    "\n",
    "X = df[attributes].copy() # Attributes\n",
    "y = df['type'].copy() # True values\n",
    "\n",
    "X = z_score(X)\n",
    "\n",
    "y_list = y.unique() # 'y' values\n",
    "\n",
    "df.head(3) #consider if scaling is needed..."
   ]
  },
  {
   "cell_type": "markdown",
   "metadata": {},
   "source": [
    "## Shift Y values"
   ]
  },
  {
   "cell_type": "code",
   "execution_count": 6,
   "metadata": {},
   "outputs": [],
   "source": [
    "y2 = y.copy()"
   ]
  },
  {
   "cell_type": "code",
   "execution_count": 7,
   "metadata": {},
   "outputs": [],
   "source": [
    "for i in range(len(y2)):\n",
    "    if y2[i] > 4:\n",
    "        y2[i] = y2[i] - 2\n",
    "    else:\n",
    "        y2[i] = y2[i] - 1"
   ]
  },
  {
   "cell_type": "code",
   "execution_count": 8,
   "metadata": {},
   "outputs": [
    {
     "data": {
      "text/plain": [
       "(array([1, 2, 5, 3, 0, 4], dtype=int64), (149,))"
      ]
     },
     "execution_count": 8,
     "metadata": {},
     "output_type": "execute_result"
    }
   ],
   "source": [
    "y2.unique(), y2.shape"
   ]
  },
  {
   "cell_type": "markdown",
   "metadata": {},
   "source": [
    "## Principal Component Analysis"
   ]
  },
  {
   "cell_type": "code",
   "execution_count": 9,
   "metadata": {},
   "outputs": [
    {
     "name": "stdout",
     "output_type": "stream",
     "text": [
      "[0.28 0.23 0.16 0.12 0.1  0.06 0.04 0.01 0.  ] \n",
      "\n",
      "1 components explain 28.22% of the data\n",
      "2 components explain 51.26% of the data\n",
      "3 components explain 67.68% of the data\n",
      "4 components explain 79.4% of the data\n",
      "5 components explain 89.61% of the data\n",
      "6 components explain 95.15% of the data\n",
      "7 components explain 99.32% of the data\n",
      "8 components explain 99.98% of the data\n",
      "9 components explain 100.0% of the data\n"
     ]
    }
   ],
   "source": [
    "pca = PCA(n_components=9)\n",
    "pca.fit(X)\n",
    "\n",
    "X_pca = pd.DataFrame(pca.transform(X))\n",
    "X_pca = z_score(X_pca)\n",
    "\n",
    "print(np.around(pca.explained_variance_ratio_,2), '\\n')\n",
    "pca_exp = pca.explained_variance_ratio_\n",
    "s = 0\n",
    "c = 1\n",
    "for i in pca_exp:\n",
    "    s += i\n",
    "    print(f'{c} components explain {round(100*s,2)}% of the data')\n",
    "    c+=1"
   ]
  },
  {
   "cell_type": "code",
   "execution_count": 10,
   "metadata": {},
   "outputs": [],
   "source": [
    "pca = PCA(n_components=7) # 99% of the data explained.\n",
    "pca.fit(X)\n",
    "\n",
    "X_pca = pd.DataFrame(pca.transform(X))\n",
    "X_pca = z_score(X_pca) #I don't think this is needed for NB?"
   ]
  },
  {
   "cell_type": "markdown",
   "metadata": {},
   "source": [
    "## Building a Model"
   ]
  },
  {
   "cell_type": "code",
   "execution_count": 11,
   "metadata": {},
   "outputs": [
    {
     "name": "stdout",
     "output_type": "stream",
     "text": [
      "              precision    recall  f1-score   support\n",
      "\n",
      "           0       0.54      0.78      0.64         9\n",
      "           1       0.80      0.29      0.42        14\n",
      "           2       0.25      0.50      0.33         2\n",
      "           3       0.00      0.00      0.00         0\n",
      "           4       1.00      1.00      1.00         1\n",
      "           5       1.00      1.00      1.00         4\n",
      "\n",
      "    accuracy                           0.57        30\n",
      "   macro avg       0.60      0.59      0.57        30\n",
      "weighted avg       0.72      0.57      0.58        30\n",
      "\n"
     ]
    },
    {
     "data": {
      "image/png": "[encoded data removed]",
      "text/plain": [
       "<Figure size 576x432 with 2 Axes>"
      ]
     },
     "metadata": {
      "needs_background": "light"
     },
     "output_type": "display_data"
    },
    {
     "name": "stdout",
     "output_type": "stream",
     "text": [
      "[0.32885906 0.3557047  0.08053691 0.06040268 0.04026846 0.13422819]\n"
     ]
    }
   ],
   "source": [
    "# Split into train and test\n",
    "X_train, X_test, y_train, y_test = train_test_split(X_pca, y2, test_size=0.2, random_state=8)\n",
    "\n",
    "# Initalize model and fit the data\n",
    "gnb = GaussianNB()\n",
    "gnb.fit(X_pca, y2)\n",
    "\n",
    "# Get priors based on the whole dataset\n",
    "prior = gnb.class_prior_\n",
    "\n",
    "# Predict the classes of the test split\n",
    "pred = gnb.predict(X_test)\n",
    "\n",
    "print(metrics.classification_report(y_test, pred))\n",
    "cm = confusion_matrix(y_test, pred);\n",
    "plot_confusion_matrix(cm           = cm, \n",
    "                      normalize    = False,\n",
    "                      target_names = ['0', '1', '2', '3', '4', '5'],\n",
    "                      title        = \"Confusion Matrix: Test Split\")\n",
    "print(prior)"
   ]
  },
  {
   "cell_type": "markdown",
   "metadata": {},
   "source": [
    "## K-Fold Cross Validation"
   ]
  },
  {
   "cell_type": "code",
   "execution_count": 12,
   "metadata": {},
   "outputs": [
    {
     "name": "stdout",
     "output_type": "stream",
     "text": [
      "------------------------------------------------------------------------\n",
      "Training for fold 1 ...\n",
      "Score for fold 1: Loss of 1.76; Accuracy of 54.0%, F1 of 0.038\n",
      "              precision    recall  f1-score   support\n",
      "\n",
      "     class 1       0.54      0.88      0.67        16\n",
      "     class 2       0.43      0.21      0.29        14\n",
      "     class 3       0.50      0.20      0.29         5\n",
      "     class 4       0.25      0.33      0.29         3\n",
      "     class 5       0.50      0.33      0.40         3\n",
      "     class 6       0.78      0.78      0.78         9\n",
      "\n",
      "    accuracy                           0.54        50\n",
      "   macro avg       0.50      0.46      0.45        50\n",
      "weighted avg       0.53      0.54      0.50        50\n",
      "\n",
      "------------------------------------------------------------------------\n",
      "Training for fold 2 ...\n",
      "Score for fold 2: Loss of 1.61; Accuracy of 42.0%, F1 of 0.186\n",
      "              precision    recall  f1-score   support\n",
      "\n",
      "     class 1       0.46      0.93      0.62        14\n",
      "     class 2       0.40      0.08      0.14        24\n",
      "     class 3       0.00      0.00      0.00         2\n",
      "     class 4       0.50      0.75      0.60         4\n",
      "     class 5       0.00      0.00      0.00         2\n",
      "     class 6       1.00      0.75      0.86         4\n",
      "\n",
      "    accuracy                           0.42        50\n",
      "   macro avg       0.39      0.42      0.37        50\n",
      "weighted avg       0.44      0.42      0.36        50\n",
      "\n",
      "------------------------------------------------------------------------\n",
      "Training for fold 3 ...\n",
      "Score for fold 3: Loss of 2.0; Accuracy of 37.0%, F1 of 0.181\n",
      "              precision    recall  f1-score   support\n",
      "\n",
      "     class 1       0.50      0.32      0.39        19\n",
      "     class 2       0.40      0.13      0.20        15\n",
      "     class 3       0.05      0.20      0.07         5\n",
      "     class 4       0.50      0.50      0.50         2\n",
      "     class 5       1.00      1.00      1.00         1\n",
      "     class 6       1.00      1.00      1.00         7\n",
      "\n",
      "    accuracy                           0.37        49\n",
      "   macro avg       0.57      0.52      0.53        49\n",
      "weighted avg       0.50      0.37      0.40        49\n",
      "\n"
     ]
    }
   ],
   "source": [
    "p = prior # save the priors calc'd above\n",
    "prior = [1/6, 1/6, 1/6, 1/6, 1/6, 1/6]\n",
    "gnb = GaussianNB(priors=prior, var_smoothing=1e-1)\n",
    "\n",
    "num_folds = 3\n",
    "# Define the K-fold Cross Validator\n",
    "kfold = KFold(n_splits=num_folds, shuffle=False)\n",
    "\n",
    "# K-fold Cross Validation model evaluation\n",
    "fold_no = 1\n",
    "acc_per_fold = []\n",
    "loss_per_fold = []\n",
    "f1_per_fold = []\n",
    "for train, test in kfold.split(X_pca, y2):\n",
    "    # Generate a print\n",
    "    print('------------------------------------------------------------------------')\n",
    "    print(f'Training for fold {fold_no} ...')\n",
    "\n",
    "    fold_x = X_pca.iloc[train].copy().reset_index(drop=True)\n",
    "    fold_y = y2.iloc[train].copy().reset_index(drop=True)\n",
    "    \n",
    "    # Fit data to model\n",
    "    clf = gnb.fit(fold_x, fold_y)\n",
    "    \n",
    "    # Predict the test data\n",
    "    y_pred = gnb.predict(X_pca.iloc[test])\n",
    "    \n",
    "    # Generate Metrics\n",
    "    loss = round(log_loss(y2.iloc[test], gnb.predict_proba(X_pca.iloc[test]), eps=1e-15, labels=[0,1,2,3,4,5]),2)\n",
    "    accuracy = round((y_pred==y2.iloc[test]).mean(),2)\n",
    "    f1 = f1_score(np.array(df['type'].iloc[test]), np.array(y_pred), average='weighted')\n",
    "    print(f'Score for fold {fold_no}: Loss of {loss}; Accuracy of {accuracy*100}%, F1 of {round(f1,3)}')\n",
    "\n",
    "    target_names = ['class {}'.format(i+1) for i in range(6)]\n",
    "    print(classification_report(y2.iloc[test], y_pred, target_names=target_names, zero_division=0, labels=[0,1,2,3,4,5]))\n",
    "    \n",
    "    acc_per_fold.append(accuracy * 100)\n",
    "    loss_per_fold.append(loss)\n",
    "    f1_per_fold.append(f1)\n",
    "\n",
    "    # Increase fold number\n",
    "    fold_no = fold_no + 1"
   ]
  },
  {
   "cell_type": "code",
   "execution_count": 13,
   "metadata": {},
   "outputs": [
    {
     "name": "stdout",
     "output_type": "stream",
     "text": [
      "Average Accuracy: 44.333%\n"
     ]
    }
   ],
   "source": [
    "print(f'Average Accuracy: {round(sum(acc_per_fold)/len(acc_per_fold),3)}%')"
   ]
  },
  {
   "cell_type": "code",
   "execution_count": 14,
   "metadata": {},
   "outputs": [
    {
     "name": "stdout",
     "output_type": "stream",
     "text": [
      "Average Loss: 1.79\n"
     ]
    }
   ],
   "source": [
    "print(f'Average Loss: {round(sum(loss_per_fold)/len(loss_per_fold),2)}')"
   ]
  },
  {
   "cell_type": "code",
   "execution_count": 15,
   "metadata": {},
   "outputs": [
    {
     "name": "stdout",
     "output_type": "stream",
     "text": [
      "Average F1: 0.13\n"
     ]
    }
   ],
   "source": [
    "print(f'Average F1: {round(sum(f1_per_fold)/len(f1_per_fold),2)}')"
   ]
  },
  {
   "cell_type": "markdown",
   "metadata": {},
   "source": [
    "### Using default priors:\n",
    "Acc  = 51.66% <br>\n",
    "loss = 1.67 <br>\n",
    "F1   = 0.09 <br>\n",
    "\n",
    "### Using equal priors:\n",
    "Acc  = 44.3% <br>\n",
    "loss = 1.79 <br>\n",
    "F1   = 0.13 <br>"
   ]
  },
  {
   "cell_type": "markdown",
   "metadata": {},
   "source": [
    "Forcing the priors to be equal improves the F1 score, but the overall performance is poor."
   ]
  },
  {
   "cell_type": "code",
   "execution_count": 16,
   "metadata": {},
   "outputs": [
    {
     "name": "stdout",
     "output_type": "stream",
     "text": [
      "Fitting 10 folds for each of 100 candidates, totalling 1000 fits\n"
     ]
    },
    {
     "name": "stderr",
     "output_type": "stream",
     "text": [
      "[Parallel(n_jobs=-1)]: Using backend LokyBackend with 16 concurrent workers.\n",
      "[Parallel(n_jobs=-1)]: Done  18 tasks      | elapsed:    3.9s\n",
      "[Parallel(n_jobs=-1)]: Done 464 tasks      | elapsed:    4.5s\n"
     ]
    },
    {
     "name": "stdout",
     "output_type": "stream",
     "text": [
      "GaussianNB(var_smoothing=0.23101297000831597)\n"
     ]
    },
    {
     "name": "stderr",
     "output_type": "stream",
     "text": [
      "[Parallel(n_jobs=-1)]: Done 1000 out of 1000 | elapsed:    4.9s finished\n"
     ]
    }
   ],
   "source": [
    "## code from: https://medium.com/analytics-vidhya/how-to-improve-naive-bayes-9fa698e14cba\n",
    "\n",
    "from sklearn.model_selection import GridSearchCV\n",
    "\n",
    "param_grid_nb = {'var_smoothing': np.logspace(0,-9, num=100)}\n",
    "\n",
    "nbModel_grid = GridSearchCV(estimator=GaussianNB(), param_grid=param_grid_nb, verbose=1, cv=10, n_jobs=-1)\n",
    "\n",
    "nbModel_grid.fit(X_train, y_train)\n",
    "\n",
    "print(nbModel_grid.best_estimator_)"
   ]
  },
  {
   "cell_type": "code",
   "execution_count": 17,
   "metadata": {},
   "outputs": [
    {
     "data": {
      "text/plain": [
       "0.23101297000831597"
      ]
     },
     "execution_count": 17,
     "metadata": {},
     "output_type": "execute_result"
    }
   ],
   "source": [
    "var_smooth = nbModel_grid.best_estimator_.var_smoothing\n",
    "var_smooth"
   ]
  },
  {
   "cell_type": "code",
   "execution_count": 18,
   "metadata": {},
   "outputs": [
    {
     "name": "stdout",
     "output_type": "stream",
     "text": [
      "------------------------------------------------------------------------\n",
      "Training for fold 1 ...\n",
      "Score for fold 1: Loss of 1.42; Accuracy of 54.0%, F1 of 0.038\n",
      "              precision    recall  f1-score   support\n",
      "\n",
      "     class 1       0.52      0.94      0.67        16\n",
      "     class 2       0.38      0.21      0.27        14\n",
      "     class 3       0.00      0.00      0.00         5\n",
      "     class 4       0.25      0.33      0.29         3\n",
      "     class 5       1.00      0.33      0.50         3\n",
      "     class 6       0.88      0.78      0.82         9\n",
      "\n",
      "    accuracy                           0.54        50\n",
      "   macro avg       0.50      0.43      0.42        50\n",
      "weighted avg       0.50      0.54      0.49        50\n",
      "\n",
      "------------------------------------------------------------------------\n",
      "Training for fold 2 ...\n",
      "Score for fold 2: Loss of 1.34; Accuracy of 42.0%, F1 of 0.038\n",
      "              precision    recall  f1-score   support\n",
      "\n",
      "     class 1       0.41      1.00      0.58        14\n",
      "     class 2       0.38      0.12      0.19        24\n",
      "     class 3       0.00      0.00      0.00         2\n",
      "     class 4       0.50      0.25      0.33         4\n",
      "     class 5       0.00      0.00      0.00         2\n",
      "     class 6       0.75      0.75      0.75         4\n",
      "\n",
      "    accuracy                           0.42        50\n",
      "   macro avg       0.34      0.35      0.31        50\n",
      "weighted avg       0.40      0.42      0.34        50\n",
      "\n",
      "------------------------------------------------------------------------\n",
      "Training for fold 3 ...\n",
      "Score for fold 3: Loss of 1.47; Accuracy of 56.99999999999999%, F1 of 0.099\n",
      "              precision    recall  f1-score   support\n",
      "\n",
      "     class 1       0.55      0.89      0.68        19\n",
      "     class 2       0.50      0.20      0.29        15\n",
      "     class 3       0.00      0.00      0.00         5\n",
      "     class 4       0.00      0.00      0.00         2\n",
      "     class 5       1.00      1.00      1.00         1\n",
      "     class 6       1.00      1.00      1.00         7\n",
      "\n",
      "    accuracy                           0.57        49\n",
      "   macro avg       0.51      0.52      0.49        49\n",
      "weighted avg       0.53      0.57      0.51        49\n",
      "\n",
      "Average Accuracy: 51.0%\n",
      "Average Loss: 1.41\n",
      "Average F1: 0.06\n"
     ]
    }
   ],
   "source": [
    "prior = p#[1/6, 1/6, 1/6, 1/6, 1/6, 1/6]\n",
    "gnb = GaussianNB(priors=prior, var_smoothing=var_smooth)\n",
    "\n",
    "num_folds = 3\n",
    "# Define the K-fold Cross Validator\n",
    "kfold = KFold(n_splits=num_folds, shuffle=False)\n",
    "\n",
    "# K-fold Cross Validation model evaluation\n",
    "fold_no = 1\n",
    "acc_per_fold = []\n",
    "loss_per_fold = []\n",
    "f1_per_fold = []\n",
    "for train, test in kfold.split(X_pca, y2):\n",
    "    # Generate a print\n",
    "    print('------------------------------------------------------------------------')\n",
    "    print(f'Training for fold {fold_no} ...')\n",
    "\n",
    "    fold_x = X_pca.iloc[train].copy().reset_index(drop=True)\n",
    "    fold_y = y2.iloc[train].copy().reset_index(drop=True)\n",
    "    \n",
    "    # Fit data to model\n",
    "    clf = gnb.fit(fold_x, fold_y)\n",
    "    \n",
    "    # Predict the test data\n",
    "    y_pred = gnb.predict(X_pca.iloc[test])\n",
    "    \n",
    "    # Generate Metrics\n",
    "    loss = round(log_loss(y2.iloc[test], gnb.predict_proba(X_pca.iloc[test]), eps=1e-15, labels=[0,1,2,3,4,5]),2)\n",
    "    accuracy = round((y_pred==y2.iloc[test]).mean(),2)\n",
    "    f1 = f1_score(np.array(df['type'].iloc[test]), np.array(y_pred), average='weighted')\n",
    "    print(f'Score for fold {fold_no}: Loss of {loss}; Accuracy of {accuracy*100}%, F1 of {round(f1,3)}')\n",
    "\n",
    "    target_names = ['class {}'.format(i+1) for i in range(6)]\n",
    "    print(classification_report(y2.iloc[test], y_pred, target_names=target_names, zero_division=0, labels=[0,1,2,3,4,5]))\n",
    "    \n",
    "    acc_per_fold.append(accuracy * 100)\n",
    "    loss_per_fold.append(loss)\n",
    "    f1_per_fold.append(f1)\n",
    "\n",
    "    # Increase fold number\n",
    "    fold_no = fold_no + 1\n",
    "    \n",
    "print(f'Average Accuracy: {round(sum(acc_per_fold)/len(acc_per_fold),3)}%')\n",
    "print(f'Average Loss: {round(sum(loss_per_fold)/len(loss_per_fold),2)}')\n",
    "print(f'Average F1: {round(sum(f1_per_fold)/len(f1_per_fold),2)}')"
   ]
  },
  {
   "cell_type": "markdown",
   "metadata": {},
   "source": [
    "### Using default priors:\n",
    "Acc  = 51.0% <br>\n",
    "loss = 1.41 <br>\n",
    "F1   = 0.06 <br>\n",
    "\n",
    "### Using equal priors:\n",
    "Acc  = 41.0% <br>\n",
    "loss = 1.53 <br>\n",
    "F1   = 0.12 <br>"
   ]
  },
  {
   "cell_type": "markdown",
   "metadata": {},
   "source": [
    "Well that made it worse.\n",
    "Our best model uses equal priors and var_smoothing = 1e-1"
   ]
  },
  {
   "cell_type": "code",
   "execution_count": null,
   "metadata": {},
   "outputs": [],
   "source": []
  },
  {
   "cell_type": "markdown",
   "metadata": {},
   "source": [
    "## Running the Test Data Through"
   ]
  },
  {
   "cell_type": "code",
   "execution_count": 19,
   "metadata": {},
   "outputs": [],
   "source": [
    "#set hyperparameters and build model\n",
    "prior = [1/6, 1/6, 1/6, 1/6, 1/6, 1/6]\n",
    "var_smooth = 1e-1\n",
    "\n",
    "gnb = GaussianNB(priors=prior, var_smoothing=var_smooth)\n",
    "final = gnb.fit(X_pca, y2)"
   ]
  },
  {
   "cell_type": "code",
   "execution_count": 20,
   "metadata": {},
   "outputs": [],
   "source": [
    "#Load test data\n",
    "df_test = pd.read_csv(TEST) #test dataframe\n",
    "\n",
    "attributes = list(df_test.columns)[:-1]\n",
    "\n",
    "X_test = df_test[attributes].copy() #attributes\n",
    "y_test = df_test['type'].copy() #true values\n",
    "\n",
    "for i in range(len(y_test)):\n",
    "    if y_test[i] > 4:\n",
    "        y_test[i] = y_test[i] - 2\n",
    "    else:\n",
    "        y_test[i] = y_test[i] - 1\n",
    "\n",
    "X_test = pd.DataFrame(pca.transform(X_test))\n",
    "\n",
    "X_test = z_score(X_test)"
   ]
  },
  {
   "cell_type": "code",
   "execution_count": 21,
   "metadata": {},
   "outputs": [
    {
     "name": "stdout",
     "output_type": "stream",
     "text": [
      "accuracy:    0.47692307692307695\n",
      "f1:          0.43034321133868636 \n",
      "\n",
      "              precision    recall  f1-score   support\n",
      "\n",
      "           0       0.52      0.76      0.62        21\n",
      "           1       0.40      0.09      0.14        23\n",
      "           2       0.15      0.40      0.22         5\n",
      "           3       0.43      0.75      0.55         4\n",
      "           4       0.00      0.00      0.00         3\n",
      "           5       1.00      0.89      0.94         9\n",
      "\n",
      "    accuracy                           0.48        65\n",
      "   macro avg       0.42      0.48      0.41        65\n",
      "weighted avg       0.48      0.48      0.43        65\n",
      "\n"
     ]
    },
    {
     "data": {
      "image/png": "[encoded data removed]",
      "text/plain": [
       "<Figure size 576x432 with 2 Axes>"
      ]
     },
     "metadata": {
      "needs_background": "light"
     },
     "output_type": "display_data"
    }
   ],
   "source": [
    "# Predict on the test data\n",
    "pred = final.predict(X_test)\n",
    "\n",
    "print('accuracy:   ',(pred==y_test).mean())\n",
    "print('f1:         ', f1_score(y_test, pred, average='weighted'), '\\n')\n",
    "\n",
    "print(metrics.classification_report(y_test, pred))\n",
    "cm = confusion_matrix(y_test, pred);\n",
    "plot_confusion_matrix(cm           = cm, \n",
    "                      normalize    = False,\n",
    "                      target_names = ['0', '1', '2', '3', '4', '5'],\n",
    "                      title        = \"Confusion Matrix: Test Split\")"
   ]
  }
 ],
 "metadata": {
  "kernelspec": {
   "display_name": "Python 3",
   "language": "python",
   "name": "python3"
  },
  "language_info": {
   "codemirror_mode": {
    "name": "ipython",
    "version": 3
   },
   "file_extension": ".py",
   "mimetype": "text/x-python",
   "name": "python",
   "nbconvert_exporter": "python",
   "pygments_lexer": "ipython3",
   "version": "3.8.5"
  }
 },
 "nbformat": 4,
 "nbformat_minor": 4
}
