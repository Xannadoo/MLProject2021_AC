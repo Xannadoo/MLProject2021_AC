{
 "cells": [
  {
   "cell_type": "markdown",
   "metadata": {},
   "source": [
    "## Imports"
   ]
  },
  {
   "cell_type": "code",
   "execution_count": 1,
   "metadata": {},
   "outputs": [],
   "source": [
    "import numpy as np\n",
    "import pandas as pd\n",
    "\n",
    "import matplotlib.pyplot as plt\n",
    "import seaborn as sns\n",
    "\n",
    "from collections import Counter\n",
    "\n",
    "from sklearn.tree import DecisionTreeClassifier\n",
    "from sklearn import tree"
   ]
  },
  {
   "cell_type": "markdown",
   "metadata": {},
   "source": [
    "## Paths"
   ]
  },
  {
   "cell_type": "code",
   "execution_count": 2,
   "metadata": {},
   "outputs": [],
   "source": [
    "TRAIN = '../Data/df_train.csv'\n",
    "TEST = '../Data/df_test.csv'"
   ]
  },
  {
   "cell_type": "markdown",
   "metadata": {},
   "source": [
    "## Functions"
   ]
  },
  {
   "cell_type": "code",
   "execution_count": 3,
   "metadata": {},
   "outputs": [],
   "source": [
    "z_score = lambda x : (x-np.mean(x,axis=0))/ np.std(x,axis=0) #code from exercise 5"
   ]
  },
  {
   "cell_type": "markdown",
   "metadata": {},
   "source": [
    "## Variables and df loading"
   ]
  },
  {
   "cell_type": "code",
   "execution_count": 49,
   "metadata": {},
   "outputs": [
    {
     "name": "stderr",
     "output_type": "stream",
     "text": [
      "<ipython-input-49-3bb2aecc6c37>:17: SettingWithCopyWarning: \n",
      "A value is trying to be set on a copy of a slice from a DataFrame\n",
      "\n",
      "See the caveats in the documentation: https://pandas.pydata.org/pandas-docs/stable/user_guide/indexing.html#returning-a-view-versus-a-copy\n",
      "  df['type'][df['type'] == i] = y_types[i]\n"
     ]
    }
   ],
   "source": [
    "col = 'tab10' #colour theme\n",
    "\n",
    "df = pd.read_csv(TRAIN) #training dataframe\n",
    "\n",
    "attributes = list(df.columns)[:-1] #creates list of column names for later\n",
    "\n",
    "X = df[attributes].copy() #attributes\n",
    "y = df['type'].copy() #true values\n",
    "\n",
    "y_types = {1:'wind_float', 2:'wind_non', 3:'wind_veh', 5:'container', 6:'tableware', 7:'headlamp'}\n",
    "y_list = y.unique() #'y' values\n",
    "\n",
    "X_std = z_score(X) #standardizes X as later we see they are on different scales\n",
    "\n",
    "for i in y_list: #this changes the 'type' to a descriptive word rather than a number\n",
    "    #This is more human readable for plotting later - 'y' is still using the numbers\n",
    "    df['type'][df['type'] == i] = y_types[i]"
   ]
  },
  {
   "cell_type": "code",
   "execution_count": 50,
   "metadata": {
    "scrolled": false
   },
   "outputs": [
    {
     "name": "stdout",
     "output_type": "stream",
     "text": [
      "0.6199065196548418\n"
     ]
    }
   ],
   "source": [
    "def Gini(df, y, threshold):\n",
    "    '''Takes a threshold and calc the Gini impurity of each split of the given df and class'''\n",
    "    df = pd.concat([df,y], axis=1,)\n",
    "    df.columns=['Att', 'class']\n",
    "    # Split the Input data into side a and b\n",
    "    df_a = df[df['Att'] >= threshold] #check what the accepted standard for the equals bit is\n",
    "    df_b = df[df['Att'] < threshold]\n",
    "    # calc and return gini impurity for each side\n",
    "   \n",
    "    gini_a = 0\n",
    "    gini_b = 0\n",
    "\n",
    "    for class_ in y_list:\n",
    "        \n",
    "        # Add total of each class\n",
    "        class_tot_a = 0\n",
    "        class_tot_b = 0\n",
    "        for i in range(len(df_a)):\n",
    "            # Add the total in a of this class\n",
    "            if df_a['class'].iloc[i] == class_:\n",
    "                class_tot_a +=1\n",
    "        for i in range(len(df_b)):\n",
    "            # Add the total in b of this class\n",
    "            if df_b['class'].iloc[i] == class_:\n",
    "                class_tot_b +=1 \n",
    "        #print(class_tot_a)\n",
    "        \n",
    "        # side a\n",
    "        p_a = class_tot_a/len(df_a) # proportion of this class out of total points on side a (k/N)\n",
    "        # Probability of class\n",
    "        left = p_a *(1-p_a) \n",
    "        \n",
    "        # b\n",
    "        p_b = class_tot_b/len(df_b) # proportion of this class out of total points on side b\n",
    "        # Probability of class\n",
    "        right = p_b *(1-p_b)\n",
    "    \n",
    "        gini_a += left\n",
    "        gini_b += right\n",
    "        \n",
    "    return ((len(df_a)/len(df))*gini_a) + ((len(df_b)/len(df))*gini_b)\n",
    "\n",
    "    \n",
    "print(Gini(df['Ba'], y, 0.4))"
   ]
  },
  {
   "cell_type": "code",
   "execution_count": 51,
   "metadata": {},
   "outputs": [
    {
     "data": {
      "text/plain": [
       "array([0, 0, 0, 0, 0, 0, 0, 0])"
      ]
     },
     "execution_count": 51,
     "metadata": {},
     "output_type": "execute_result"
    }
   ],
   "source": [
    "np.zeros((8), dtype=int)"
   ]
  },
  {
   "cell_type": "code",
   "execution_count": 52,
   "metadata": {},
   "outputs": [
    {
     "name": "stdout",
     "output_type": "stream",
     "text": [
      "0.6199065196548418\n"
     ]
    }
   ],
   "source": [
    "def Gini_2(df, y, threshold):#, class_):\n",
    "    df = pd.concat([df,y], axis=1,)\n",
    "    df.columns=['Att', 'class']\n",
    "    '''Takes a threshold and calc the Gini impurity of each split of the given df and class'''\n",
    "    \n",
    "    # Split the Input data into side a and b\n",
    "    df_a = df[df['Att'] >= threshold]\n",
    "    df_b = df[df['Att'] < threshold]\n",
    "    \n",
    "    left_class_count = np.zeros((8), dtype=int)\n",
    "    right_class_count = np.zeros((8), dtype=int)\n",
    "    for i in range(len(df_a)):\n",
    "        left_class_count[df_a['class'].iloc[i]]+=1\n",
    "    for i in range(len(df_b)):\n",
    "        right_class_count[df_b['class'].iloc[i]]+=1        \n",
    "    left_class_count = np.delete(left_class_count, [0,4])\n",
    "    right_class_count = np.delete(right_class_count, [0,4])\n",
    "    \n",
    "    print(left_class_count, right_class_count)\n",
    "    \n",
    "    left_proportion = [left_class_count[i]/np.sum(left_class_count) for i in range(len(left_class_count))]\n",
    "    right_proportion = [right_class_count[i]/np.sum(right_class_count) for i in range(len(right_class_count))]\n",
    "    print(left_proportion, right_proportion)\n",
    "    \n",
    "    left_gini = 0\n",
    "    for i in range(len(left_proportion)):\n",
    "        left_gini += left_proportion[i]*(1-left_proportion[i])\n",
    "    \n",
    "    right_gini = 0\n",
    "    for i in range(len(right_proportion)):\n",
    "        right_gini += right_proportion[i]*(1-right_proportion[i])    \n",
    "    print(left_gini, right_gini)\n",
    "    \n",
    "    Gini = (left_gini * sum(left_class_count)/len(df)) + (right_gini * sum(right_class_count)/len(df))\n",
    "    print(Gini)\n",
    "\n",
    "    return()\n",
    "\n",
    "    \n",
    "print(Gini(df['Ba'], y, 0.4))"
   ]
  },
  {
   "cell_type": "code",
   "execution_count": 53,
   "metadata": {},
   "outputs": [
    {
     "name": "stdout",
     "output_type": "stream",
     "text": [
      "[49 53 12  9  6 20]\n",
      "[0.3288590604026846, 0.35570469798657717, 0.08053691275167785, 0.06040268456375839, 0.040268456375838924, 0.1342281879194631]\n",
      "0.7355524525922255\n"
     ]
    }
   ],
   "source": [
    "df = pd.concat([df['Ba'],y], axis=1,)\n",
    "df.columns=['Att', 'class']\n",
    "\n",
    "class_count = np.zeros((8), dtype=int)\n",
    "for i in range(len(df)):\n",
    "    class_count[df['class'].iloc[i]]+=1        \n",
    "class_count = np.delete(class_count, [0,4])\n",
    "print(class_count)\n",
    "    \n",
    "proportion = [class_count[i]/np.sum(class_count) for i in range(len(class_count))]\n",
    "print(proportion)\n",
    "    \n",
    "gini = 0\n",
    "for i in range(len(proportion)):\n",
    "    gini += proportion[i]*(1-proportion[i])\n",
    "    \n",
    "#Gini = (left_gini * sum(left_class_count)/len(df)) + (right_gini * sum(right_class_count)/len(df))\n",
    "print(gini)"
   ]
  },
  {
   "cell_type": "markdown",
   "metadata": {},
   "source": [
    "Below code is FROM:\n",
    "https://machinelearningmastery.com/implement-decision-tree-algorithm-scratch-python/"
   ]
  },
  {
   "cell_type": "code",
   "execution_count": 34,
   "metadata": {},
   "outputs": [
    {
     "data": {
      "text/plain": [
       "1.0"
      ]
     },
     "execution_count": 34,
     "metadata": {},
     "output_type": "execute_result"
    }
   ],
   "source": [
    "# Calculate the Gini index for a split dataset\n",
    "def gini_index(groups, classes):\n",
    "    # count all samples at split point\n",
    "    n_instances = float(sum([len(group) for group in groups]))\n",
    "    # sum weighted Gini index for each group\n",
    "    gini = 0.0\n",
    "    for group in groups:\n",
    "        size = float(len(group))\n",
    "        # avoid divide by zero\n",
    "        if size == 0:\n",
    "            continue\n",
    "        score = 0.0\n",
    "        # score the group based on the score for each class\n",
    "        for class_val in classes:\n",
    "            p = [row[-1] for row in group].count(class_val) / size\n",
    "            score += p * p\n",
    "        # weight the group score by its relative size\n",
    "        gini += (1.0 - score) * (size / n_instances)\n",
    "    return gini\n",
    "\n",
    "df_a = df[df['Ba'] >= 0.4]\n",
    "df_b = df[df['Ba'] < 0.4]\n",
    "gini_index([df_a, df_b], y)"
   ]
  },
  {
   "cell_type": "code",
   "execution_count": 39,
   "metadata": {},
   "outputs": [
    {
     "name": "stdout",
     "output_type": "stream",
     "text": [
      "0.7349420223030549 2 1.52203 RI\n"
     ]
    }
   ],
   "source": [
    "def leaf_hunter(df=df, class_list=y_list):\n",
    "    '''takes df and class returns highest gini gain, best class, best threshold, and \n",
    "    best attribute'''\n",
    "    #So many loops! \n",
    "    best_gini_gain = 0\n",
    "    best_class = ''\n",
    "    best_threshold = ''\n",
    "    best_att = ''\n",
    "    \n",
    "    for cl in y_list:\n",
    "        '''loop through classes'''\n",
    "        for a in attributes:\n",
    "            tmp = df.sort_values(by=a, axis=0).copy()\n",
    "                #print(a)\n",
    "                #loop through attributes\n",
    "            for threshold in range(len(df)-1):\n",
    "                '''loop through potential thresholds'''\n",
    "                if tmp[a].iloc[threshold] == tmp[a].iloc[threshold+1]:\n",
    "                    pass\n",
    "                else:\n",
    "                    # Threshold is halfway in between two datapoints\n",
    "                    thresh = ((tmp[a].iloc[threshold] + tmp[a].iloc[threshold+1])/2)\n",
    "                    #print((tmp[a].iloc[threshold], tmp[a].iloc[threshold+1]), thresh)       \n",
    "                    g_gain = Gini(df[a], y, thresh)#, cl)\n",
    "                    if g_gain > best_gini_gain:\n",
    "                        best_gini_gain = g_gain\n",
    "                        best_class = cl\n",
    "                        best_threshold = thresh\n",
    "                        best_att = a\n",
    "    return best_gini_gain, best_class, best_threshold, best_att\n",
    "            \n",
    "best_gini_gain, best_class, best_threshold, best_att = leaf_hunter()\n",
    "\n",
    "print(best_gini_gain, best_class, best_threshold, best_att)"
   ]
  },
  {
   "cell_type": "code",
   "execution_count": 40,
   "metadata": {},
   "outputs": [
    {
     "data": {
      "image/png": "[encoded data removed]",
      "text/plain": [
       "<Figure size 432x288 with 1 Axes>"
      ]
     },
     "metadata": {
      "needs_background": "light"
     },
     "output_type": "display_data"
    }
   ],
   "source": [
    "plt.scatter([i for i in range(149)], df[best_att], c=y, cmap=col)\n",
    "plt.hlines(best_threshold, 0, 149);"
   ]
  },
  {
   "cell_type": "code",
   "execution_count": 8,
   "metadata": {},
   "outputs": [],
   "source": [
    "clf = DecisionTreeClassifier(max_depth=1)\n",
    "model = clf.fit(X, y)"
   ]
  },
  {
   "cell_type": "code",
   "execution_count": 9,
   "metadata": {},
   "outputs": [
    {
     "data": {
      "image/png": "[encoded data removed]",
      "text/plain": [
       "<Figure size 720x504 with 1 Axes>"
      ]
     },
     "metadata": {
      "needs_background": "light"
     },
     "output_type": "display_data"
    }
   ],
   "source": [
    "fig = plt.figure(figsize=(10,7))\n",
    "_ = tree.plot_tree(model, filled= True)"
   ]
  },
  {
   "cell_type": "code",
   "execution_count": 10,
   "metadata": {},
   "outputs": [
    {
     "data": {
      "text/html": [
       "<div>\n",
       "<style scoped>\n",
       "    .dataframe tbody tr th:only-of-type {\n",
       "        vertical-align: middle;\n",
       "    }\n",
       "\n",
       "    .dataframe tbody tr th {\n",
       "        vertical-align: top;\n",
       "    }\n",
       "\n",
       "    .dataframe thead th {\n",
       "        text-align: right;\n",
       "    }\n",
       "</style>\n",
       "<table border=\"1\" class=\"dataframe\">\n",
       "  <thead>\n",
       "    <tr style=\"text-align: right;\">\n",
       "      <th></th>\n",
       "      <th>RI</th>\n",
       "      <th>Na</th>\n",
       "      <th>Mg</th>\n",
       "      <th>Al</th>\n",
       "      <th>Si</th>\n",
       "      <th>K</th>\n",
       "      <th>Ca</th>\n",
       "      <th>Ba</th>\n",
       "      <th>Fe</th>\n",
       "    </tr>\n",
       "  </thead>\n",
       "  <tbody>\n",
       "    <tr>\n",
       "      <th>0</th>\n",
       "      <td>1.51839</td>\n",
       "      <td>12.85</td>\n",
       "      <td>3.67</td>\n",
       "      <td>1.24</td>\n",
       "      <td>72.57</td>\n",
       "      <td>0.62</td>\n",
       "      <td>8.68</td>\n",
       "      <td>0.0</td>\n",
       "      <td>0.35</td>\n",
       "    </tr>\n",
       "    <tr>\n",
       "      <th>1</th>\n",
       "      <td>1.52081</td>\n",
       "      <td>13.78</td>\n",
       "      <td>2.28</td>\n",
       "      <td>1.43</td>\n",
       "      <td>71.99</td>\n",
       "      <td>0.49</td>\n",
       "      <td>9.85</td>\n",
       "      <td>0.0</td>\n",
       "      <td>0.17</td>\n",
       "    </tr>\n",
       "    <tr>\n",
       "      <th>2</th>\n",
       "      <td>1.51708</td>\n",
       "      <td>13.72</td>\n",
       "      <td>3.68</td>\n",
       "      <td>1.81</td>\n",
       "      <td>72.06</td>\n",
       "      <td>0.64</td>\n",
       "      <td>7.88</td>\n",
       "      <td>0.0</td>\n",
       "      <td>0.00</td>\n",
       "    </tr>\n",
       "    <tr>\n",
       "      <th>3</th>\n",
       "      <td>1.52739</td>\n",
       "      <td>11.02</td>\n",
       "      <td>0.00</td>\n",
       "      <td>0.75</td>\n",
       "      <td>73.08</td>\n",
       "      <td>0.00</td>\n",
       "      <td>14.96</td>\n",
       "      <td>0.0</td>\n",
       "      <td>0.00</td>\n",
       "    </tr>\n",
       "    <tr>\n",
       "      <th>4</th>\n",
       "      <td>1.52210</td>\n",
       "      <td>13.73</td>\n",
       "      <td>3.84</td>\n",
       "      <td>0.72</td>\n",
       "      <td>71.76</td>\n",
       "      <td>0.17</td>\n",
       "      <td>9.74</td>\n",
       "      <td>0.0</td>\n",
       "      <td>0.00</td>\n",
       "    </tr>\n",
       "  </tbody>\n",
       "</table>\n",
       "</div>"
      ],
      "text/plain": [
       "        RI     Na    Mg    Al     Si     K     Ca   Ba    Fe\n",
       "0  1.51839  12.85  3.67  1.24  72.57  0.62   8.68  0.0  0.35\n",
       "1  1.52081  13.78  2.28  1.43  71.99  0.49   9.85  0.0  0.17\n",
       "2  1.51708  13.72  3.68  1.81  72.06  0.64   7.88  0.0  0.00\n",
       "3  1.52739  11.02  0.00  0.75  73.08  0.00  14.96  0.0  0.00\n",
       "4  1.52210  13.73  3.84  0.72  71.76  0.17   9.74  0.0  0.00"
      ]
     },
     "execution_count": 10,
     "metadata": {},
     "output_type": "execute_result"
    }
   ],
   "source": [
    "X.head()"
   ]
  },
  {
   "cell_type": "code",
   "execution_count": 11,
   "metadata": {},
   "outputs": [
    {
     "name": "stdout",
     "output_type": "stream",
     "text": [
      "RI 0\n",
      "Na 0\n",
      "Mg 29\n",
      "Al 2\n",
      "Si 0\n",
      "K 54\n",
      "Ca 0\n",
      "Ba 128\n",
      "Fe 149\n"
     ]
    }
   ],
   "source": [
    "for a in attributes:\n",
    "    print(a, len(X[X[a] <= 0.4]))"
   ]
  },
  {
   "cell_type": "code",
   "execution_count": 12,
   "metadata": {},
   "outputs": [
    {
     "data": {
      "image/png": "[encoded data removed]",
      "text/plain": [
       "<Figure size 432x288 with 1 Axes>"
      ]
     },
     "metadata": {
      "needs_background": "light"
     },
     "output_type": "display_data"
    }
   ],
   "source": [
    "plt.scatter([i for i in range(149)], df['Ba'], c=y, cmap=col)\n",
    "plt.hlines(0.4, 0, 149);"
   ]
  },
  {
   "cell_type": "code",
   "execution_count": null,
   "metadata": {},
   "outputs": [],
   "source": []
  }
 ],
 "metadata": {
  "kernelspec": {
   "display_name": "Python 3",
   "language": "python",
   "name": "python3"
  },
  "language_info": {
   "codemirror_mode": {
    "name": "ipython",
    "version": 3
   },
   "file_extension": ".py",
   "mimetype": "text/x-python",
   "name": "python",
   "nbconvert_exporter": "python",
   "pygments_lexer": "ipython3",
   "version": "3.8.5"
  }
 },
 "nbformat": 4,
 "nbformat_minor": 4
}
