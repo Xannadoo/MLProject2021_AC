{
 "cells": [
  {
   "cell_type": "markdown",
   "metadata": {},
   "source": [
    "## Imports"
   ]
  },
  {
   "cell_type": "code",
   "execution_count": 1,
   "metadata": {},
   "outputs": [],
   "source": [
    "import numpy as np\n",
    "import pandas as pd\n",
    "\n",
    "import matplotlib.pyplot as plt\n",
    "import seaborn as sns\n",
    "\n",
    "from collections import Counter\n",
    "\n",
    "from sklearn.tree import DecisionTreeClassifier\n",
    "from sklearn import tree"
   ]
  },
  {
   "cell_type": "markdown",
   "metadata": {},
   "source": [
    "## Paths"
   ]
  },
  {
   "cell_type": "code",
   "execution_count": 2,
   "metadata": {},
   "outputs": [],
   "source": [
    "TRAIN = '../Data/df_train.csv'\n",
    "TEST = '../Data/df_test.csv'"
   ]
  },
  {
   "cell_type": "markdown",
   "metadata": {},
   "source": [
    "## Functions"
   ]
  },
  {
   "cell_type": "code",
   "execution_count": 3,
   "metadata": {},
   "outputs": [],
   "source": [
    "z_score = lambda x : (x-np.mean(x,axis=0))/ np.std(x,axis=0) #code from exercise 5"
   ]
  },
  {
   "cell_type": "markdown",
   "metadata": {},
   "source": [
    "## Variables and df loading"
   ]
  },
  {
   "cell_type": "code",
   "execution_count": 4,
   "metadata": {},
   "outputs": [
    {
     "name": "stderr",
     "output_type": "stream",
     "text": [
      "<ipython-input-4-3bb2aecc6c37>:17: SettingWithCopyWarning: \n",
      "A value is trying to be set on a copy of a slice from a DataFrame\n",
      "\n",
      "See the caveats in the documentation: https://pandas.pydata.org/pandas-docs/stable/user_guide/indexing.html#returning-a-view-versus-a-copy\n",
      "  df['type'][df['type'] == i] = y_types[i]\n"
     ]
    }
   ],
   "source": [
    "col = 'tab10' #colour theme\n",
    "\n",
    "df = pd.read_csv(TRAIN) #training dataframe\n",
    "\n",
    "attributes = list(df.columns)[:-1] #creates list of column names for later\n",
    "\n",
    "X = df[attributes].copy() #attributes\n",
    "y = df['type'].copy() #true values\n",
    "\n",
    "y_types = {1:'wind_float', 2:'wind_non', 3:'wind_veh', 5:'container', 6:'tableware', 7:'headlamp'}\n",
    "y_list = y.unique() #'y' values\n",
    "\n",
    "X_std = z_score(X) #standardizes X as later we see they are on different scales\n",
    "\n",
    "for i in y_list: #this changes the 'type' to a descriptive word rather than a number\n",
    "    #This is more human readable for plotting later - 'y' is still using the numbers\n",
    "    df['type'][df['type'] == i] = y_types[i]"
   ]
  },
  {
   "cell_type": "code",
   "execution_count": 57,
   "metadata": {
    "scrolled": true
   },
   "outputs": [
    {
     "name": "stdout",
     "output_type": "stream",
     "text": [
      "2 0.348993288590604 0.006711409395973154\n",
      "1 0.3221476510067114 0.006711409395973154\n",
      "5 0.053691275167785234 0.006711409395973154\n",
      "7 0.013422818791946308 0.12080536912751678\n",
      "6 0.040268456375838924 0.0\n",
      "3 0.08053691275167785 0.0\n"
     ]
    },
    {
     "data": {
      "text/plain": [
       "0.5523936433119132"
      ]
     },
     "execution_count": 57,
     "metadata": {},
     "output_type": "execute_result"
    }
   ],
   "source": [
    "def Gini(df, y,threshold):\n",
    "    df = pd.concat([df,y], axis=1,)\n",
    "    df.columns=['Att', 'class']\n",
    "    #print(df.head())\n",
    "    '''Takes a threshold and calc the Gini impurity of each split of the given df and class'''\n",
    "    df_a = df[df['Att'] < threshold] #check what the accepted standard for the equals bit is\n",
    "    df_b = df[df['Att'] >= threshold]\n",
    "    '''calc and return gini impurity for each side'''\n",
    "    #print(len(df_a))\n",
    "    #print(len(df_b))\n",
    "    gini_a = 0\n",
    "    gini_b = 0\n",
    "    \n",
    "    for i in y_list:\n",
    "        \n",
    "        k_a = df_a[df_a['class'] == i]\n",
    "        p_ka = len(k_a)/len(df)\n",
    "        \n",
    "        k_b = df_b[df_b['class'] == i]\n",
    "        p_kb = len(k_b)/len(df)\n",
    "        \n",
    "        print(i, p_ka,p_kb)\n",
    "        \n",
    "        gini_a += (p_ka* (1-p_ka))\n",
    "        gini_b += (p_kb* (1-p_kb))\n",
    "        \n",
    "\n",
    "    \n",
    "    return ((len(df_a)/len(df))*gini_a) + ((len(df_b)/len(df))*gini_b)\n",
    "\n",
    "        \n",
    "        \n",
    "Gini(df['Ba'],y, 0.4)"
   ]
  },
  {
   "cell_type": "code",
   "execution_count": 47,
   "metadata": {},
   "outputs": [
    {
     "name": "stdout",
     "output_type": "stream",
     "text": [
      "2 52\n",
      "1 48\n",
      "5 8\n",
      "7 2\n",
      "6 6\n",
      "3 12\n"
     ]
    }
   ],
   "source": [
    "tmp = pd.concat([df['Ba'],y], axis=1,)\n",
    "tmp.columns=['Att', 'class']\n",
    "\n",
    "tmp = tmp[tmp['Att'] < 0.4]\n",
    "\n",
    "for i in y_list:\n",
    "    tmp_ = tmp[tmp['class'] == i]\n",
    "    print(i,len(tmp_))\n"
   ]
  },
  {
   "cell_type": "code",
   "execution_count": 13,
   "metadata": {},
   "outputs": [
    {
     "name": "stdout",
     "output_type": "stream",
     "text": [
      "0.7664519616233504 Ba 0.03\n",
      "0.7624881762082789 Ba 0.075\n",
      "0.7583442187288861 Ba 0.115\n",
      "0.7540200891851719 Ba 0.14500000000000002\n",
      "0.753029142831404 Ba 0.21000000000000002\n",
      "0.7485248412233684 Ba 0.4\n",
      "0.749876131705779 Ba 0.535\n",
      "0.7510472501238683 Ba 0.55\n",
      "0.7520381964776363 Ba 0.585\n",
      "0.7528489707670827 Ba 0.625\n",
      "0.7534795729922076 Ba 0.65\n",
      "0.7539300031530112 Ba 0.675\n",
      "0.7496058736092969 Ba 0.875\n",
      "0.7498761317057789 Ba 1.125\n",
      "0.7499662177379397 Ba 1.285\n",
      "0.749876131705779 Ba 1.4649999999999999\n",
      "0.7496058736092969 Ba 1.56\n",
      "0.7485248412233683 Ba 1.58\n",
      "0.7477140669339218 Ba 1.6099999999999999\n",
      "0.7467231205801541 Ba 1.65\n",
      "0.7455520021620647 Ba 1.6749999999999998\n",
      "0.7442007116796541 Ba 1.6949999999999998\n",
      "0.7426692491329219 Ba 1.955\n",
      "0.7419485608756362 Ba 2.54\n",
      "0.7402369262645826 Ba 3.0149999999999997\n",
      "0.8649159947750102 1.517785 RI\n"
     ]
    }
   ],
   "source": [
    "def leaf_hunter(df=df, class_list=y_list):\n",
    "    '''takes df and class returns highest gini gain, best class, best threshold, and \n",
    "    best attribute'''\n",
    "    #So many loops! \n",
    "    best_gini = 0\n",
    "    best_class = ''\n",
    "    best_threshold = ''\n",
    "    best_att = ''\n",
    "\n",
    "    for a in attributes:\n",
    "        tmp = df.sort_values(by=a, axis=0).copy()\n",
    "            #print(a)\n",
    "            #loop through attributes\n",
    "        for threshold in range(len(df)-1):\n",
    "            '''loop through potential thresholds'''\n",
    "            if tmp[a].iloc[threshold] == tmp[a].iloc[threshold+1]:\n",
    "                pass\n",
    "            else:\n",
    "                thresh = ((tmp[a].iloc[threshold] + tmp[a].iloc[threshold+1])/2)\n",
    "                #print((tmp[a].iloc[threshold], tmp[a].iloc[threshold+1]), thresh)       \n",
    "                gini = Gini(df[a], y, thresh)\n",
    "                if a == 'Ba':\n",
    "                    print(gini, a, thresh)\n",
    "                if gini > best_gini:\n",
    "                    best_gini = gini\n",
    "                    #best_class = cl\n",
    "                    best_threshold = thresh\n",
    "                    best_att = a\n",
    "    return best_gini, best_threshold, best_att\n",
    "            \n",
    "best_gini, best_threshold, best_att = leaf_hunter()\n",
    "\n",
    "print(best_gini, best_threshold, best_att)"
   ]
  },
  {
   "cell_type": "code",
   "execution_count": 15,
   "metadata": {},
   "outputs": [
    {
     "data": {
      "image/png": "[encoded data removed]",
      "text/plain": [
       "<Figure size 432x288 with 1 Axes>"
      ]
     },
     "metadata": {
      "needs_background": "light"
     },
     "output_type": "display_data"
    }
   ],
   "source": [
    "plt.scatter([i for i in range(149)], df[best_att], c=y, cmap=col)\n",
    "plt.hlines(best_threshold, 0, 149);"
   ]
  },
  {
   "cell_type": "code",
   "execution_count": 22,
   "metadata": {},
   "outputs": [],
   "source": [
    "clf = DecisionTreeClassifier(max_depth=1)\n",
    "model = clf.fit(X, y)"
   ]
  },
  {
   "cell_type": "code",
   "execution_count": 23,
   "metadata": {},
   "outputs": [
    {
     "data": {
      "image/png": "[encoded data removed]",
      "text/plain": [
       "<Figure size 720x504 with 1 Axes>"
      ]
     },
     "metadata": {
      "needs_background": "light"
     },
     "output_type": "display_data"
    }
   ],
   "source": [
    "fig = plt.figure(figsize=(10,7))\n",
    "_ = tree.plot_tree(model, filled= True)"
   ]
  },
  {
   "cell_type": "code",
   "execution_count": 24,
   "metadata": {},
   "outputs": [
    {
     "data": {
      "text/html": [
       "<div>\n",
       "<style scoped>\n",
       "    .dataframe tbody tr th:only-of-type {\n",
       "        vertical-align: middle;\n",
       "    }\n",
       "\n",
       "    .dataframe tbody tr th {\n",
       "        vertical-align: top;\n",
       "    }\n",
       "\n",
       "    .dataframe thead th {\n",
       "        text-align: right;\n",
       "    }\n",
       "</style>\n",
       "<table border=\"1\" class=\"dataframe\">\n",
       "  <thead>\n",
       "    <tr style=\"text-align: right;\">\n",
       "      <th></th>\n",
       "      <th>RI</th>\n",
       "      <th>Na</th>\n",
       "      <th>Mg</th>\n",
       "      <th>Al</th>\n",
       "      <th>Si</th>\n",
       "      <th>K</th>\n",
       "      <th>Ca</th>\n",
       "      <th>Ba</th>\n",
       "      <th>Fe</th>\n",
       "    </tr>\n",
       "  </thead>\n",
       "  <tbody>\n",
       "    <tr>\n",
       "      <th>0</th>\n",
       "      <td>1.51839</td>\n",
       "      <td>12.85</td>\n",
       "      <td>3.67</td>\n",
       "      <td>1.24</td>\n",
       "      <td>72.57</td>\n",
       "      <td>0.62</td>\n",
       "      <td>8.68</td>\n",
       "      <td>0.0</td>\n",
       "      <td>0.35</td>\n",
       "    </tr>\n",
       "    <tr>\n",
       "      <th>1</th>\n",
       "      <td>1.52081</td>\n",
       "      <td>13.78</td>\n",
       "      <td>2.28</td>\n",
       "      <td>1.43</td>\n",
       "      <td>71.99</td>\n",
       "      <td>0.49</td>\n",
       "      <td>9.85</td>\n",
       "      <td>0.0</td>\n",
       "      <td>0.17</td>\n",
       "    </tr>\n",
       "    <tr>\n",
       "      <th>2</th>\n",
       "      <td>1.51708</td>\n",
       "      <td>13.72</td>\n",
       "      <td>3.68</td>\n",
       "      <td>1.81</td>\n",
       "      <td>72.06</td>\n",
       "      <td>0.64</td>\n",
       "      <td>7.88</td>\n",
       "      <td>0.0</td>\n",
       "      <td>0.00</td>\n",
       "    </tr>\n",
       "    <tr>\n",
       "      <th>3</th>\n",
       "      <td>1.52739</td>\n",
       "      <td>11.02</td>\n",
       "      <td>0.00</td>\n",
       "      <td>0.75</td>\n",
       "      <td>73.08</td>\n",
       "      <td>0.00</td>\n",
       "      <td>14.96</td>\n",
       "      <td>0.0</td>\n",
       "      <td>0.00</td>\n",
       "    </tr>\n",
       "    <tr>\n",
       "      <th>4</th>\n",
       "      <td>1.52210</td>\n",
       "      <td>13.73</td>\n",
       "      <td>3.84</td>\n",
       "      <td>0.72</td>\n",
       "      <td>71.76</td>\n",
       "      <td>0.17</td>\n",
       "      <td>9.74</td>\n",
       "      <td>0.0</td>\n",
       "      <td>0.00</td>\n",
       "    </tr>\n",
       "  </tbody>\n",
       "</table>\n",
       "</div>"
      ],
      "text/plain": [
       "        RI     Na    Mg    Al     Si     K     Ca   Ba    Fe\n",
       "0  1.51839  12.85  3.67  1.24  72.57  0.62   8.68  0.0  0.35\n",
       "1  1.52081  13.78  2.28  1.43  71.99  0.49   9.85  0.0  0.17\n",
       "2  1.51708  13.72  3.68  1.81  72.06  0.64   7.88  0.0  0.00\n",
       "3  1.52739  11.02  0.00  0.75  73.08  0.00  14.96  0.0  0.00\n",
       "4  1.52210  13.73  3.84  0.72  71.76  0.17   9.74  0.0  0.00"
      ]
     },
     "execution_count": 24,
     "metadata": {},
     "output_type": "execute_result"
    }
   ],
   "source": [
    "X.head()"
   ]
  },
  {
   "cell_type": "code",
   "execution_count": 28,
   "metadata": {},
   "outputs": [
    {
     "name": "stdout",
     "output_type": "stream",
     "text": [
      "RI 0\n",
      "Na 0\n",
      "Mg 29\n",
      "Al 2\n",
      "Si 0\n",
      "K 54\n",
      "Ca 0\n",
      "Ba 128\n",
      "Fe 149\n"
     ]
    }
   ],
   "source": [
    "for a in attributes:\n",
    "    print(a, len(X[X[a] < 0.4]))"
   ]
  },
  {
   "cell_type": "code",
   "execution_count": 26,
   "metadata": {},
   "outputs": [
    {
     "data": {
      "image/png": "[encoded data removed]",
      "text/plain": [
       "<Figure size 432x288 with 1 Axes>"
      ]
     },
     "metadata": {
      "needs_background": "light"
     },
     "output_type": "display_data"
    }
   ],
   "source": [
    "plt.scatter([i for i in range(149)], df['Ba'], c=y, cmap=col)\n",
    "plt.hlines(0.4, 0, 149);"
   ]
  },
  {
   "cell_type": "code",
   "execution_count": 27,
   "metadata": {},
   "outputs": [
    {
     "data": {
      "text/html": [
       "<div>\n",
       "<style scoped>\n",
       "    .dataframe tbody tr th:only-of-type {\n",
       "        vertical-align: middle;\n",
       "    }\n",
       "\n",
       "    .dataframe tbody tr th {\n",
       "        vertical-align: top;\n",
       "    }\n",
       "\n",
       "    .dataframe thead th {\n",
       "        text-align: right;\n",
       "    }\n",
       "</style>\n",
       "<table border=\"1\" class=\"dataframe\">\n",
       "  <thead>\n",
       "    <tr style=\"text-align: right;\">\n",
       "      <th></th>\n",
       "      <th>RI</th>\n",
       "      <th>Na</th>\n",
       "      <th>Mg</th>\n",
       "      <th>Al</th>\n",
       "      <th>Si</th>\n",
       "      <th>K</th>\n",
       "      <th>Ca</th>\n",
       "      <th>Ba</th>\n",
       "      <th>Fe</th>\n",
       "    </tr>\n",
       "  </thead>\n",
       "  <tbody>\n",
       "    <tr>\n",
       "      <th>0</th>\n",
       "      <td>1.51839</td>\n",
       "      <td>12.85</td>\n",
       "      <td>3.67</td>\n",
       "      <td>1.24</td>\n",
       "      <td>72.57</td>\n",
       "      <td>0.62</td>\n",
       "      <td>8.68</td>\n",
       "      <td>0.0</td>\n",
       "      <td>0.35</td>\n",
       "    </tr>\n",
       "    <tr>\n",
       "      <th>1</th>\n",
       "      <td>1.52081</td>\n",
       "      <td>13.78</td>\n",
       "      <td>2.28</td>\n",
       "      <td>1.43</td>\n",
       "      <td>71.99</td>\n",
       "      <td>0.49</td>\n",
       "      <td>9.85</td>\n",
       "      <td>0.0</td>\n",
       "      <td>0.17</td>\n",
       "    </tr>\n",
       "    <tr>\n",
       "      <th>2</th>\n",
       "      <td>1.51708</td>\n",
       "      <td>13.72</td>\n",
       "      <td>3.68</td>\n",
       "      <td>1.81</td>\n",
       "      <td>72.06</td>\n",
       "      <td>0.64</td>\n",
       "      <td>7.88</td>\n",
       "      <td>0.0</td>\n",
       "      <td>0.00</td>\n",
       "    </tr>\n",
       "    <tr>\n",
       "      <th>3</th>\n",
       "      <td>1.52739</td>\n",
       "      <td>11.02</td>\n",
       "      <td>0.00</td>\n",
       "      <td>0.75</td>\n",
       "      <td>73.08</td>\n",
       "      <td>0.00</td>\n",
       "      <td>14.96</td>\n",
       "      <td>0.0</td>\n",
       "      <td>0.00</td>\n",
       "    </tr>\n",
       "    <tr>\n",
       "      <th>4</th>\n",
       "      <td>1.52210</td>\n",
       "      <td>13.73</td>\n",
       "      <td>3.84</td>\n",
       "      <td>0.72</td>\n",
       "      <td>71.76</td>\n",
       "      <td>0.17</td>\n",
       "      <td>9.74</td>\n",
       "      <td>0.0</td>\n",
       "      <td>0.00</td>\n",
       "    </tr>\n",
       "    <tr>\n",
       "      <th>...</th>\n",
       "      <td>...</td>\n",
       "      <td>...</td>\n",
       "      <td>...</td>\n",
       "      <td>...</td>\n",
       "      <td>...</td>\n",
       "      <td>...</td>\n",
       "      <td>...</td>\n",
       "      <td>...</td>\n",
       "      <td>...</td>\n",
       "    </tr>\n",
       "    <tr>\n",
       "      <th>143</th>\n",
       "      <td>1.51618</td>\n",
       "      <td>13.53</td>\n",
       "      <td>3.55</td>\n",
       "      <td>1.54</td>\n",
       "      <td>72.99</td>\n",
       "      <td>0.39</td>\n",
       "      <td>7.78</td>\n",
       "      <td>0.0</td>\n",
       "      <td>0.00</td>\n",
       "    </tr>\n",
       "    <tr>\n",
       "      <th>144</th>\n",
       "      <td>1.51755</td>\n",
       "      <td>12.71</td>\n",
       "      <td>3.42</td>\n",
       "      <td>1.20</td>\n",
       "      <td>73.20</td>\n",
       "      <td>0.59</td>\n",
       "      <td>8.64</td>\n",
       "      <td>0.0</td>\n",
       "      <td>0.00</td>\n",
       "    </tr>\n",
       "    <tr>\n",
       "      <th>145</th>\n",
       "      <td>1.51800</td>\n",
       "      <td>13.71</td>\n",
       "      <td>3.93</td>\n",
       "      <td>1.54</td>\n",
       "      <td>71.81</td>\n",
       "      <td>0.54</td>\n",
       "      <td>8.21</td>\n",
       "      <td>0.0</td>\n",
       "      <td>0.15</td>\n",
       "    </tr>\n",
       "    <tr>\n",
       "      <th>147</th>\n",
       "      <td>1.51571</td>\n",
       "      <td>12.72</td>\n",
       "      <td>3.46</td>\n",
       "      <td>1.56</td>\n",
       "      <td>73.20</td>\n",
       "      <td>0.67</td>\n",
       "      <td>8.09</td>\n",
       "      <td>0.0</td>\n",
       "      <td>0.24</td>\n",
       "    </tr>\n",
       "    <tr>\n",
       "      <th>148</th>\n",
       "      <td>1.51786</td>\n",
       "      <td>12.73</td>\n",
       "      <td>3.43</td>\n",
       "      <td>1.19</td>\n",
       "      <td>72.95</td>\n",
       "      <td>0.62</td>\n",
       "      <td>8.76</td>\n",
       "      <td>0.0</td>\n",
       "      <td>0.30</td>\n",
       "    </tr>\n",
       "  </tbody>\n",
       "</table>\n",
       "<p>128 rows × 9 columns</p>\n",
       "</div>"
      ],
      "text/plain": [
       "          RI     Na    Mg    Al     Si     K     Ca   Ba    Fe\n",
       "0    1.51839  12.85  3.67  1.24  72.57  0.62   8.68  0.0  0.35\n",
       "1    1.52081  13.78  2.28  1.43  71.99  0.49   9.85  0.0  0.17\n",
       "2    1.51708  13.72  3.68  1.81  72.06  0.64   7.88  0.0  0.00\n",
       "3    1.52739  11.02  0.00  0.75  73.08  0.00  14.96  0.0  0.00\n",
       "4    1.52210  13.73  3.84  0.72  71.76  0.17   9.74  0.0  0.00\n",
       "..       ...    ...   ...   ...    ...   ...    ...  ...   ...\n",
       "143  1.51618  13.53  3.55  1.54  72.99  0.39   7.78  0.0  0.00\n",
       "144  1.51755  12.71  3.42  1.20  73.20  0.59   8.64  0.0  0.00\n",
       "145  1.51800  13.71  3.93  1.54  71.81  0.54   8.21  0.0  0.15\n",
       "147  1.51571  12.72  3.46  1.56  73.20  0.67   8.09  0.0  0.24\n",
       "148  1.51786  12.73  3.43  1.19  72.95  0.62   8.76  0.0  0.30\n",
       "\n",
       "[128 rows x 9 columns]"
      ]
     },
     "execution_count": 27,
     "metadata": {},
     "output_type": "execute_result"
    }
   ],
   "source": [
    "X[X['Ba'] <= 0.4]"
   ]
  },
  {
   "cell_type": "code",
   "execution_count": null,
   "metadata": {},
   "outputs": [],
   "source": []
  },
  {
   "cell_type": "code",
   "execution_count": null,
   "metadata": {},
   "outputs": [],
   "source": []
  }
 ],
 "metadata": {
  "kernelspec": {
   "display_name": "Python 3",
   "language": "python",
   "name": "python3"
  },
  "language_info": {
   "codemirror_mode": {
    "name": "ipython",
    "version": 3
   },
   "file_extension": ".py",
   "mimetype": "text/x-python",
   "name": "python",
   "nbconvert_exporter": "python",
   "pygments_lexer": "ipython3",
   "version": "3.8.5"
  }
 },
 "nbformat": 4,
 "nbformat_minor": 4
}
