{
 "cells": [
  {
   "cell_type": "markdown",
   "metadata": {},
   "source": [
    "## Imports"
   ]
  },
  {
   "cell_type": "code",
   "execution_count": 1,
   "metadata": {},
   "outputs": [],
   "source": [
    "import numpy as np\n",
    "import pandas as pd\n",
    "\n",
    "import matplotlib.pyplot as plt\n",
    "import seaborn as sns\n",
    "\n",
    "from collections import Counter\n",
    "\n",
    "from sklearn.tree import DecisionTreeClassifier\n",
    "from sklearn import tree"
   ]
  },
  {
   "cell_type": "markdown",
   "metadata": {},
   "source": [
    "## Paths"
   ]
  },
  {
   "cell_type": "code",
   "execution_count": 2,
   "metadata": {},
   "outputs": [],
   "source": [
    "TRAIN = '../Data/df_train.csv'\n",
    "TEST = '../Data/df_test.csv'"
   ]
  },
  {
   "cell_type": "markdown",
   "metadata": {},
   "source": [
    "## Functions"
   ]
  },
  {
   "cell_type": "code",
   "execution_count": 3,
   "metadata": {},
   "outputs": [],
   "source": [
    "z_score = lambda x : (x-np.mean(x,axis=0))/ np.std(x,axis=0) #code from exercise 5"
   ]
  },
  {
   "cell_type": "markdown",
   "metadata": {},
   "source": [
    "## Variables and df loading"
   ]
  },
  {
   "cell_type": "code",
   "execution_count": 4,
   "metadata": {},
   "outputs": [
    {
     "name": "stderr",
     "output_type": "stream",
     "text": [
      "<ipython-input-4-3bb2aecc6c37>:17: SettingWithCopyWarning: \n",
      "A value is trying to be set on a copy of a slice from a DataFrame\n",
      "\n",
      "See the caveats in the documentation: https://pandas.pydata.org/pandas-docs/stable/user_guide/indexing.html#returning-a-view-versus-a-copy\n",
      "  df['type'][df['type'] == i] = y_types[i]\n"
     ]
    }
   ],
   "source": [
    "col = 'tab10' #colour theme\n",
    "\n",
    "df = pd.read_csv(TRAIN) #training dataframe\n",
    "\n",
    "attributes = list(df.columns)[:-1] #creates list of column names for later\n",
    "\n",
    "X = df[attributes].copy() #attributes\n",
    "y = df['type'].copy() #true values\n",
    "\n",
    "y_types = {1:'wind_float', 2:'wind_non', 3:'wind_veh', 5:'container', 6:'tableware', 7:'headlamp'}\n",
    "y_list = y.unique() #'y' values\n",
    "\n",
    "X_std = z_score(X) #standardizes X as later we see they are on different scales\n",
    "\n",
    "for i in y_list: #this changes the 'type' to a descriptive word rather than a number\n",
    "    #This is more human readable for plotting later - 'y' is still using the numbers\n",
    "    df['type'][df['type'] == i] = y_types[i]"
   ]
  },
  {
   "cell_type": "code",
   "execution_count": 29,
   "metadata": {
    "scrolled": true
   },
   "outputs": [
    {
     "data": {
      "text/plain": [
       "0.6199065196548418"
      ]
     },
     "execution_count": 29,
     "metadata": {},
     "output_type": "execute_result"
    }
   ],
   "source": [
    "def Gini(df, y,threshold):\n",
    "    '''Takes a threshold and calc the Gini impurity of each split of the given df'''\n",
    "    df = pd.concat([df,y], axis=1,)\n",
    "    df.columns=['Att', 'class']\n",
    "    #print(df.head())\n",
    "    \n",
    "    df_a = df[df['Att'] < threshold]\n",
    "    df_b = df[df['Att'] >= threshold]\n",
    "    #calc and return gini impurity for each side\n",
    "    #print(len(df_a))\n",
    "    #print(len(df_b))\n",
    "    gini_a = 0\n",
    "    gini_b = 0\n",
    "    \n",
    "    for i in y_list: #loop through all classes\n",
    "        \n",
    "        k_a = df_a[df_a['class'] == i] \n",
    "        p_ka = len(k_a)/len(df_a) #count number of class k in first split, divided by total in that split.\n",
    "        \n",
    "        k_b = df_b[df_b['class'] == i]\n",
    "        p_kb = len(k_b)/len(df_b) #count number of class k in first split, divided by total in that split.\n",
    "        \n",
    "        #print(i, k_a,k_b)\n",
    "        \n",
    "        gini_a += (p_ka* (1-p_ka)) #p*(1-p)\n",
    "        gini_b += (p_kb* (1-p_kb)) #p*(1-p)\n",
    "        \n",
    "\n",
    "    #print(round(gini_a, 3), round(gini_b, 3)) #The leaves gini scores are correct!\n",
    "    \n",
    "    return ((len(df_a)/len(df))*gini_a) + ((len(df_b)/len(df))*gini_b) #but this aint.\n",
    "\n",
    "        \n",
    "        \n",
    "Gini(df['Ba'],y, 0.4) #0.736"
   ]
  },
  {
   "cell_type": "code",
   "execution_count": 26,
   "metadata": {},
   "outputs": [
    {
     "data": {
      "text/plain": [
       "0.6198053691275168"
      ]
     },
     "execution_count": 26,
     "metadata": {},
     "output_type": "execute_result"
    }
   ],
   "source": [
    "((128/149) * 0.679) + ((21/149) * 0.259)"
   ]
  },
  {
   "cell_type": "code",
   "execution_count": 7,
   "metadata": {},
   "outputs": [
    {
     "name": "stdout",
     "output_type": "stream",
     "text": [
      "0.645428560635632 Ba 0.03\n",
      "0.641086815327993 Ba 0.075\n",
      "0.6360268456375838 Ba 0.115\n",
      "0.6301638250864979 Ba 0.14500000000000002\n",
      "0.6270147439623738 Ba 0.21000000000000002\n",
      "0.6199065196548418 Ba 0.4\n",
      "0.6283023776078248 Ba 0.535\n",
      "0.6365459337554005 Ba 0.55\n",
      "0.6446368495653807 Ba 0.585\n",
      "0.6525739032647838 Ba 0.625\n",
      "0.6603547459252157 Ba 0.65\n",
      "0.6679755584493641 Ba 0.675\n",
      "0.660906928021022 Ba 0.875\n",
      "0.6685368520149412 Ba 1.125\n",
      "0.6760152843776026 Ba 1.285\n",
      "0.6833346596988266 Ba 1.4649999999999999\n",
      "0.6904833180435517 Ba 1.56\n",
      "0.7041863011090486 Ba 1.58\n",
      "0.7106666846717892 Ba 1.6099999999999999\n",
      "0.7168066832496363 Ba 1.65\n",
      "0.7224645786726324 Ba 1.6749999999999998\n",
      "0.7273547789863458 Ba 1.6949999999999998\n",
      "0.7308081272409671 Ba 1.955\n",
      "0.7318175592384606 Ba 2.54\n",
      "0.7318157083257755 Ba 3.0149999999999997\n",
      "0.7349420223030549 1.52203 RI\n"
     ]
    }
   ],
   "source": [
    "def leaf_hunter(df=df, class_list=y_list):\n",
    "    '''takes df and class returns highest gini gain, best class, best threshold, and \n",
    "    best attribute'''\n",
    "    #So many loops! \n",
    "    best_gini = 0\n",
    "    best_class = ''\n",
    "    best_threshold = ''\n",
    "    best_att = ''\n",
    "\n",
    "    for a in attributes:\n",
    "        tmp = df.sort_values(by=a, axis=0).copy()\n",
    "            #print(a)\n",
    "            #loop through attributes\n",
    "        for threshold in range(len(df)-1):\n",
    "            '''loop through potential thresholds'''\n",
    "            if tmp[a].iloc[threshold] == tmp[a].iloc[threshold+1]:\n",
    "                pass\n",
    "            else:\n",
    "                thresh = ((tmp[a].iloc[threshold] + tmp[a].iloc[threshold+1])/2)\n",
    "                #print((tmp[a].iloc[threshold], tmp[a].iloc[threshold+1]), thresh)       \n",
    "                gini = Gini(df[a], y, thresh)\n",
    "                if a == 'Ba':\n",
    "                    print(gini, a, thresh)\n",
    "                if gini > best_gini:\n",
    "                    best_gini = gini\n",
    "                    #best_class = cl\n",
    "                    best_threshold = thresh\n",
    "                    best_att = a\n",
    "    return best_gini, best_threshold, best_att\n",
    "            \n",
    "best_gini, best_threshold, best_att = leaf_hunter()\n",
    "\n",
    "print(best_gini, best_threshold, best_att)"
   ]
  },
  {
   "cell_type": "code",
   "execution_count": 8,
   "metadata": {},
   "outputs": [
    {
     "data": {
      "image/png": "[encoded data removed]",
      "text/plain": [
       "<Figure size 432x288 with 1 Axes>"
      ]
     },
     "metadata": {
      "needs_background": "light"
     },
     "output_type": "display_data"
    }
   ],
   "source": [
    "plt.scatter([i for i in range(149)], df[best_att], c=y, cmap=col)\n",
    "plt.hlines(best_threshold, 0, 149);"
   ]
  },
  {
   "cell_type": "code",
   "execution_count": 30,
   "metadata": {},
   "outputs": [],
   "source": [
    "clf = DecisionTreeClassifier(max_depth=2)\n",
    "model = clf.fit(X, y)"
   ]
  },
  {
   "cell_type": "code",
   "execution_count": 31,
   "metadata": {},
   "outputs": [
    {
     "data": {
      "image/png": "[encoded data removed]",
      "text/plain": [
       "<Figure size 720x504 with 1 Axes>"
      ]
     },
     "metadata": {
      "needs_background": "light"
     },
     "output_type": "display_data"
    }
   ],
   "source": [
    "fig = plt.figure(figsize=(10,7))\n",
    "_ = tree.plot_tree(model, filled= True)"
   ]
  },
  {
   "cell_type": "code",
   "execution_count": 11,
   "metadata": {},
   "outputs": [
    {
     "data": {
      "text/html": [
       "<div>\n",
       "<style scoped>\n",
       "    .dataframe tbody tr th:only-of-type {\n",
       "        vertical-align: middle;\n",
       "    }\n",
       "\n",
       "    .dataframe tbody tr th {\n",
       "        vertical-align: top;\n",
       "    }\n",
       "\n",
       "    .dataframe thead th {\n",
       "        text-align: right;\n",
       "    }\n",
       "</style>\n",
       "<table border=\"1\" class=\"dataframe\">\n",
       "  <thead>\n",
       "    <tr style=\"text-align: right;\">\n",
       "      <th></th>\n",
       "      <th>RI</th>\n",
       "      <th>Na</th>\n",
       "      <th>Mg</th>\n",
       "      <th>Al</th>\n",
       "      <th>Si</th>\n",
       "      <th>K</th>\n",
       "      <th>Ca</th>\n",
       "      <th>Ba</th>\n",
       "      <th>Fe</th>\n",
       "    </tr>\n",
       "  </thead>\n",
       "  <tbody>\n",
       "    <tr>\n",
       "      <th>0</th>\n",
       "      <td>1.51839</td>\n",
       "      <td>12.85</td>\n",
       "      <td>3.67</td>\n",
       "      <td>1.24</td>\n",
       "      <td>72.57</td>\n",
       "      <td>0.62</td>\n",
       "      <td>8.68</td>\n",
       "      <td>0.0</td>\n",
       "      <td>0.35</td>\n",
       "    </tr>\n",
       "    <tr>\n",
       "      <th>1</th>\n",
       "      <td>1.52081</td>\n",
       "      <td>13.78</td>\n",
       "      <td>2.28</td>\n",
       "      <td>1.43</td>\n",
       "      <td>71.99</td>\n",
       "      <td>0.49</td>\n",
       "      <td>9.85</td>\n",
       "      <td>0.0</td>\n",
       "      <td>0.17</td>\n",
       "    </tr>\n",
       "    <tr>\n",
       "      <th>2</th>\n",
       "      <td>1.51708</td>\n",
       "      <td>13.72</td>\n",
       "      <td>3.68</td>\n",
       "      <td>1.81</td>\n",
       "      <td>72.06</td>\n",
       "      <td>0.64</td>\n",
       "      <td>7.88</td>\n",
       "      <td>0.0</td>\n",
       "      <td>0.00</td>\n",
       "    </tr>\n",
       "    <tr>\n",
       "      <th>3</th>\n",
       "      <td>1.52739</td>\n",
       "      <td>11.02</td>\n",
       "      <td>0.00</td>\n",
       "      <td>0.75</td>\n",
       "      <td>73.08</td>\n",
       "      <td>0.00</td>\n",
       "      <td>14.96</td>\n",
       "      <td>0.0</td>\n",
       "      <td>0.00</td>\n",
       "    </tr>\n",
       "    <tr>\n",
       "      <th>4</th>\n",
       "      <td>1.52210</td>\n",
       "      <td>13.73</td>\n",
       "      <td>3.84</td>\n",
       "      <td>0.72</td>\n",
       "      <td>71.76</td>\n",
       "      <td>0.17</td>\n",
       "      <td>9.74</td>\n",
       "      <td>0.0</td>\n",
       "      <td>0.00</td>\n",
       "    </tr>\n",
       "  </tbody>\n",
       "</table>\n",
       "</div>"
      ],
      "text/plain": [
       "        RI     Na    Mg    Al     Si     K     Ca   Ba    Fe\n",
       "0  1.51839  12.85  3.67  1.24  72.57  0.62   8.68  0.0  0.35\n",
       "1  1.52081  13.78  2.28  1.43  71.99  0.49   9.85  0.0  0.17\n",
       "2  1.51708  13.72  3.68  1.81  72.06  0.64   7.88  0.0  0.00\n",
       "3  1.52739  11.02  0.00  0.75  73.08  0.00  14.96  0.0  0.00\n",
       "4  1.52210  13.73  3.84  0.72  71.76  0.17   9.74  0.0  0.00"
      ]
     },
     "execution_count": 11,
     "metadata": {},
     "output_type": "execute_result"
    }
   ],
   "source": [
    "X.head()"
   ]
  },
  {
   "cell_type": "code",
   "execution_count": 12,
   "metadata": {},
   "outputs": [
    {
     "name": "stdout",
     "output_type": "stream",
     "text": [
      "RI 0\n",
      "Na 0\n",
      "Mg 29\n",
      "Al 2\n",
      "Si 0\n",
      "K 54\n",
      "Ca 0\n",
      "Ba 128\n",
      "Fe 149\n"
     ]
    }
   ],
   "source": [
    "for a in attributes:\n",
    "    print(a, len(X[X[a] < 0.4]))"
   ]
  },
  {
   "cell_type": "code",
   "execution_count": 13,
   "metadata": {},
   "outputs": [
    {
     "data": {
      "image/png": "[encoded data removed]",
      "text/plain": [
       "<Figure size 432x288 with 1 Axes>"
      ]
     },
     "metadata": {
      "needs_background": "light"
     },
     "output_type": "display_data"
    }
   ],
   "source": [
    "plt.scatter([i for i in range(149)], df['Ba'], c=y, cmap=col)\n",
    "plt.hlines(0.4, 0, 149);"
   ]
  },
  {
   "cell_type": "code",
   "execution_count": 18,
   "metadata": {},
   "outputs": [
    {
     "name": "stdout",
     "output_type": "stream",
     "text": [
      "128 21\n"
     ]
    }
   ],
   "source": [
    "print(len(X[X['Ba'] < 0.4]), len(X[X['Ba'] >= 0.4]))"
   ]
  },
  {
   "cell_type": "code",
   "execution_count": null,
   "metadata": {},
   "outputs": [],
   "source": []
  },
  {
   "cell_type": "code",
   "execution_count": null,
   "metadata": {},
   "outputs": [],
   "source": []
  }
 ],
 "metadata": {
  "kernelspec": {
   "display_name": "Python 3",
   "language": "python",
   "name": "python3"
  },
  "language_info": {
   "codemirror_mode": {
    "name": "ipython",
    "version": 3
   },
   "file_extension": ".py",
   "mimetype": "text/x-python",
   "name": "python",
   "nbconvert_exporter": "python",
   "pygments_lexer": "ipython3",
   "version": "3.8.5"
  }
 },
 "nbformat": 4,
 "nbformat_minor": 4
}
