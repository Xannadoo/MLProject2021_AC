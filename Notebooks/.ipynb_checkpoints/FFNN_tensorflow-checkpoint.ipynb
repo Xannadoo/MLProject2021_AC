{
 "cells": [
  {
   "cell_type": "markdown",
   "metadata": {},
   "source": [
    "# ITU Machine Learning Fall 2021\n",
    "## Final Project: M2\n",
    "## FF Neural Network: Reference Implementation\n",
    "\n",
    "### Code for the Reference Implementation Neural Network Part of our Final Project\n",
    "\n",
    "### Group AC\n",
    "Chrisanna Cornish <ccor@itu.dk> <br>\n",
    "Carl August Wismer <cwis@itu.dk><br>\n",
    "Danielle Marie Dequin <ddeq@itu.dk>\n",
    "\n",
    "Last Edited: 01/01/2022"
   ]
  },
  {
   "cell_type": "markdown",
   "metadata": {},
   "source": [
    "## Imports"
   ]
  },
  {
   "cell_type": "code",
   "execution_count": 1,
   "metadata": {},
   "outputs": [],
   "source": [
    "import numpy as np\n",
    "import pandas as pd\n",
    "import random as rn\n",
    "\n",
    "import matplotlib as mpl\n",
    "import matplotlib.pyplot as plt\n",
    "import seaborn as sns\n",
    "\n",
    "from collections import Counter\n",
    "import warnings\n",
    "\n",
    "from sklearn.metrics import *\n",
    "\n",
    "from sklearn.decomposition import PCA\n",
    "from tensorflow.keras import backend as K\n",
    "from tensorflow.keras import metrics, regularizers, optimizers\n",
    "from tensorflow.keras.layers import Dense, Input, Dropout\n",
    "from tensorflow.keras.models import Model\n",
    "import tensorflow as tf\n",
    "import tensorflow.keras as keras\n",
    "import tensorflow_addons as tfa\n",
    "\n",
    "from numpy.random import seed\n",
    "\n",
    "from sklearn.model_selection import KFold\n",
    "from sklearn import preprocessing\n",
    "\n",
    "#import scipy as sp\n",
    "#from sklearn.datasets import make_classification\n",
    "\n",
    "warnings.filterwarnings(\"ignore\")"
   ]
  },
  {
   "cell_type": "markdown",
   "metadata": {},
   "source": [
    "## Paths"
   ]
  },
  {
   "cell_type": "code",
   "execution_count": 2,
   "metadata": {},
   "outputs": [],
   "source": [
    "TRAIN = '../Data/df_train.csv'\n",
    "TEST = '../Data/df_test.csv'"
   ]
  },
  {
   "cell_type": "markdown",
   "metadata": {},
   "source": [
    "## Functions"
   ]
  },
  {
   "cell_type": "code",
   "execution_count": 3,
   "metadata": {},
   "outputs": [],
   "source": [
    "z_score = lambda x : (x-np.mean(x,axis=0))/ np.std(x,axis=0) # code from exercise 5"
   ]
  },
  {
   "cell_type": "code",
   "execution_count": 4,
   "metadata": {},
   "outputs": [],
   "source": [
    "def plot_confusion_matrix(cm,\n",
    "                          target_names,\n",
    "                          title='Confusion matrix',\n",
    "                          cmap=None,\n",
    "                          normalize=True):\n",
    "    \"\"\"\n",
    "    Function copied from exercise 7.\n",
    "    ---------\n",
    "    http://scikit-learn.org/stable/auto_examples/model_selection/plot_confusion_matrix.html\n",
    "\n",
    "    \"\"\"\n",
    "    import itertools\n",
    "\n",
    "    accuracy = np.trace(cm) / float(np.sum(cm))\n",
    "    misclass = 1 - accuracy\n",
    "\n",
    "    if cmap is None:\n",
    "        cmap = plt.get_cmap('Blues')\n",
    "\n",
    "    plt.figure(figsize=(8, 6))\n",
    "    plt.imshow(cm, interpolation='nearest', cmap=cmap)\n",
    "    plt.title(title)\n",
    "    plt.colorbar()\n",
    "    plt.ylim([-0.5, cm.shape[0]-0.5])\n",
    "\n",
    "    if target_names is not None:\n",
    "        tick_marks = np.arange(len(target_names))\n",
    "        plt.xticks(tick_marks, target_names, rotation=45)\n",
    "        plt.yticks(tick_marks, target_names)\n",
    "\n",
    "    if normalize:\n",
    "        cm = cm.astype('float') / cm.sum(axis=1)[:, np.newaxis]\n",
    "\n",
    "    thresh = cm.max() / 1.5 if normalize else cm.max() / 2\n",
    "    for i, j in itertools.product(range(cm.shape[0]), range(cm.shape[1])):\n",
    "        if normalize:\n",
    "            plt.text(j, i, \"{:0.4f}\".format(cm[i, j]),\n",
    "                     horizontalalignment=\"center\",\n",
    "                     color=\"white\" if cm[i, j] > thresh else \"black\")\n",
    "        else:\n",
    "            plt.text(j, i, \"{:,}\".format(cm[i, j]),\n",
    "                     horizontalalignment=\"center\",\n",
    "                     color=\"white\" if cm[i, j] > thresh else \"black\")\n",
    "\n",
    "    plt.tight_layout()\n",
    "    plt.ylabel('True label')\n",
    "    plt.xlabel('Predicted label\\naccuracy={:0.4f}; misclass={:0.4f}'.format(accuracy, misclass))\n",
    "    #plt.savefig('../Vis/FFreference_test_matrix.png')\n",
    "    plt.show()"
   ]
  },
  {
   "cell_type": "markdown",
   "metadata": {},
   "source": [
    "## Variables and df loading"
   ]
  },
  {
   "cell_type": "code",
   "execution_count": 5,
   "metadata": {},
   "outputs": [],
   "source": [
    "col = 'tab10' # colour theme\n",
    "\n",
    "df = pd.read_csv(TRAIN) # Training dataframe\n",
    "# ensures data is without order, random state fixed for reproducability, frac=1 gives the whole df back but shuffled\n",
    "df = df.sample(frac=1, random_state=42).reset_index(drop=True)\n",
    "attributes = list(df.columns)[:-1] # List of column names for the dataframe\n",
    "\n",
    "X = df[attributes].copy() # attributes\n",
    "y = df['type'].copy() # true values\n",
    "\n",
    "y_list = y.unique() #'y' values\n",
    "\n",
    "X_std = z_score(X) # Standardizes X as later we see they are on different scales\n",
    "\n",
    "seed(23)\n",
    "tf.random.set_seed(23)"
   ]
  },
  {
   "cell_type": "markdown",
   "metadata": {},
   "source": [
    "## Change X to numpy array"
   ]
  },
  {
   "cell_type": "code",
   "execution_count": 6,
   "metadata": {},
   "outputs": [],
   "source": [
    "X_std_np = X_std.to_numpy()"
   ]
  },
  {
   "cell_type": "markdown",
   "metadata": {},
   "source": [
    "## Shift y values"
   ]
  },
  {
   "cell_type": "code",
   "execution_count": 7,
   "metadata": {},
   "outputs": [],
   "source": [
    "y2 = y.copy()"
   ]
  },
  {
   "cell_type": "code",
   "execution_count": 8,
   "metadata": {},
   "outputs": [],
   "source": [
    "for i in range(len(y2)):\n",
    "    if y2[i] > 4:\n",
    "        y2[i] = y2[i] - 2\n",
    "    else:\n",
    "        y2[i] = y2[i] - 1"
   ]
  },
  {
   "cell_type": "code",
   "execution_count": 9,
   "metadata": {},
   "outputs": [
    {
     "data": {
      "text/plain": [
       "(array([1, 2, 5, 3, 0, 4], dtype=int64), (149,))"
      ]
     },
     "execution_count": 9,
     "metadata": {},
     "output_type": "execute_result"
    }
   ],
   "source": [
    "y2.unique(), y2.shape"
   ]
  },
  {
   "cell_type": "markdown",
   "metadata": {},
   "source": [
    "## One-Hot Encoding for labels"
   ]
  },
  {
   "cell_type": "code",
   "execution_count": 10,
   "metadata": {},
   "outputs": [
    {
     "data": {
      "text/plain": [
       "(149, 6)"
      ]
     },
     "execution_count": 10,
     "metadata": {},
     "output_type": "execute_result"
    }
   ],
   "source": [
    "one_hot_y = np.zeros((X_std_np.shape[0], len(y2.unique()))) # one hot labels\n",
    "for i in range(X_std_np.shape[0]):\n",
    "    one_hot_y[i, y2[i]] = 1\n",
    "\n",
    "one_hot_y.shape"
   ]
  },
  {
   "cell_type": "markdown",
   "metadata": {},
   "source": [
    "# NN Reference Implementation"
   ]
  },
  {
   "cell_type": "code",
   "execution_count": 11,
   "metadata": {},
   "outputs": [],
   "source": [
    "# Metric options\n",
    "# [tf.keras.metrics.Precision()] to use precision\n",
    "# ['accuracy'] to use accuracy"
   ]
  },
  {
   "cell_type": "markdown",
   "metadata": {},
   "source": [
    "## Model Pipeline"
   ]
  },
  {
   "cell_type": "code",
   "execution_count": 12,
   "metadata": {},
   "outputs": [],
   "source": [
    "def pipeline_(inp_dim, # input dimension (an int)\n",
    "            n_nod, # network size [5] for one layer of 5 nodes, [5,3] for 2 layers with 5 and 3 nodes\n",
    "            drop_nod = None,\n",
    "            act_fun = 'tanh',\n",
    "            out_act_fun = 'sigmoid',\n",
    "            opt_method = 'SGD',\n",
    "            cost_fun = 'binary_crossentropy',\n",
    "            lr_rate = 0.01,\n",
    "            lambd = 0.0, \n",
    "            num_out = 6): # the number of output nodes\n",
    "            \n",
    "    main_input = Input(shape=(inp_dim,), dtype='float32', name='main_input') # inputs used to build the model\n",
    "    \n",
    "    X = main_input\n",
    "    for i, nod in enumerate(n_nod):\n",
    "        X = Dense(nod, # make a dense layer of nodes\n",
    "                  activation = act_fun,\n",
    "                  kernel_regularizer=regularizers.l2(lambd))(X)\n",
    "        if drop_nod is not None: # nodes to drop out (when training)\n",
    "            X = Dropout(drop_nod[i])(X)\n",
    "    output = Dense(num_out, activation = out_act_fun )(X)\n",
    "    \n",
    "    method = getattr(optimizers, opt_method) # get the attributes from the specified optimizer\n",
    "    \n",
    "    model =  Model(inputs=[main_input], outputs=[output]) # bulid a model with specified input and outputs\n",
    "    model.compile(optimizer = method(learning_rate = lr_rate, clipnorm = 1.0),\n",
    "                  loss = cost_fun,\n",
    "                  metrics=[tfa.metrics.F1Score(6, 'macro')])   \n",
    "    \n",
    "    return model"
   ]
  },
  {
   "cell_type": "code",
   "execution_count": 13,
   "metadata": {},
   "outputs": [
    {
     "name": "stdout",
     "output_type": "stream",
     "text": [
      "Model: \"model\"\n",
      "_________________________________________________________________\n",
      "Layer (type)                 Output Shape              Param #   \n",
      "=================================================================\n",
      "main_input (InputLayer)      [(None, 9)]               0         \n",
      "_________________________________________________________________\n",
      "dense (Dense)                (None, 100)               1000      \n",
      "_________________________________________________________________\n",
      "dense_1 (Dense)              (None, 6)                 606       \n",
      "=================================================================\n",
      "Total params: 1,606\n",
      "Trainable params: 1,606\n",
      "Non-trainable params: 0\n",
      "_________________________________________________________________\n"
     ]
    }
   ],
   "source": [
    "# seed = 0 means random, seed > 0 means fixed\n",
    "seed = 23\n",
    "np.random.seed(seed) if seed else None\n",
    "\n",
    "# Define the network, cost function and minimization method\n",
    "INPUT = {'inp_dim': X_std_np.shape[1],         \n",
    "         'n_nod': [100],                     # number of nodes in hidden layer (one layer, one node)\n",
    "         'act_fun': 'tanh',                 # activation functions for the hidden layer\n",
    "         'out_act_fun': 'softmax',          # output activation function, using sigmoid for binary classification\n",
    "         'opt_method': 'SGD',               # minimization method\n",
    "         'cost_fun': 'categorical_crossentropy', # error/cost function\n",
    "         'lr_rate': 0.1,                    # learningrate\n",
    "         'num_out' : 6 }              # if binary --> 1 |  regression--> num inputs | multi-class--> num of classes\n",
    "\n",
    "# Get the model\n",
    "model = pipeline_(**INPUT)\n",
    "\n",
    "# Print a summary of the model\n",
    "model.summary()"
   ]
  },
  {
   "cell_type": "markdown",
   "metadata": {},
   "source": [
    "## Training"
   ]
  },
  {
   "cell_type": "code",
   "execution_count": 14,
   "metadata": {},
   "outputs": [],
   "source": [
    "# Train the model\n",
    "estimator_ex1 = model.fit(X_std_np, one_hot_y,\n",
    "                          epochs = 1000,\n",
    "                          verbose = 0)"
   ]
  },
  {
   "cell_type": "code",
   "execution_count": 15,
   "metadata": {},
   "outputs": [
    {
     "name": "stdout",
     "output_type": "stream",
     "text": [
      "\n",
      " ########## Result for Test Data ########## \n",
      "\n",
      "log_loss:    0.125086924557594\n",
      "accuracy:    0.9463087248322147\n",
      "F1:          0.9459725027692708 \n",
      "\n",
      "              precision    recall  f1-score   support\n",
      "\n",
      "     class 1       0.89      0.98      0.93        49\n",
      "     class 2       0.98      0.87      0.92        53\n",
      "     class 3       0.92      1.00      0.96        12\n",
      "     class 4       1.00      1.00      1.00         9\n",
      "     class 5       1.00      1.00      1.00         6\n",
      "     class 6       1.00      1.00      1.00        20\n",
      "\n",
      "    accuracy                           0.95       149\n",
      "   macro avg       0.97      0.97      0.97       149\n",
      "weighted avg       0.95      0.95      0.95       149\n",
      "\n"
     ]
    },
    {
     "data": {
      "image/png": "[encoded data removed]",
      "text/plain": [
       "<Figure size 576x432 with 2 Axes>"
      ]
     },
     "metadata": {
      "needs_background": "light"
     },
     "output_type": "display_data"
    }
   ],
   "source": [
    "print('\\n','#'*10,'Result for {} Data'.format('Test'), '#'*10, '\\n')\n",
    "\n",
    "y_pred = model.predict(X_std_np, verbose=0 )\n",
    "print('log_loss:   ', log_loss(one_hot_y, y_pred, eps=1e-15))\n",
    "\n",
    "y_true = one_hot_y.argmax(axis=1)\n",
    "y_pred = y_pred.argmax(axis=1)\n",
    "print('accuracy:   ',(y_pred==y_true).mean())\n",
    "f1 = f1_score(y_true, y_pred, average='weighted')\n",
    "print(f'F1:          {f1}', '\\n')\n",
    "\n",
    "target_names = ['class {}'.format(i+1) for i in range(6)]\n",
    "print(classification_report(y_true, y_pred, target_names=target_names))\n",
    "\n",
    "confuTst = confusion_matrix(y_true, y_pred)\n",
    "plot_confusion_matrix(cm           = confuTst, \n",
    "                      normalize    = False,\n",
    "                      target_names = ['0','1', '2', '3', '4', '5'],\n",
    "                      title        = \"Confusion Matrix: Test data\")"
   ]
  },
  {
   "cell_type": "code",
   "execution_count": 16,
   "metadata": {},
   "outputs": [
    {
     "data": {
      "image/png": "[encoded data removed]",
      "text/plain": [
       "<Figure size 432x288 with 1 Axes>"
      ]
     },
     "metadata": {
      "needs_background": "light"
     },
     "output_type": "display_data"
    }
   ],
   "source": [
    "# Training history\n",
    "plt.figure('Model training')\n",
    "plt.ylabel('training error')\n",
    "plt.xlabel('epoch')\n",
    "for k in estimator_ex1.history.keys(): # plot the history of training metrics for each opoch\n",
    "    plt.plot(estimator_ex1.history[k], label = k) \n",
    "plt.legend(loc='best')\n",
    "plt.title('History of Training Metrics')\n",
    "plt.ylim(0.1,1)\n",
    "plt.show()\n",
    "#plt.savefig('../Vis/NN_pre-made_training_history.png')"
   ]
  },
  {
   "cell_type": "markdown",
   "metadata": {},
   "source": [
    "# K-Fold Cross Validation"
   ]
  },
  {
   "cell_type": "code",
   "execution_count": 17,
   "metadata": {},
   "outputs": [
    {
     "name": "stdout",
     "output_type": "stream",
     "text": [
      "------------------------------------------------------------------------\n",
      "Training for fold 1 ...\n",
      "Score for fold 1: loss of 1.9923856258392334; f1_score of 0.44860681891441345\n",
      "------------------------------------------------------------------------\n",
      "Training for fold 2 ...\n",
      "Score for fold 2: loss of 1.0359950065612793; f1_score of 0.6654600501060486\n",
      "------------------------------------------------------------------------\n",
      "Training for fold 3 ...\n",
      "Score for fold 3: loss of 0.5934797525405884; f1_score of 0.7176788449287415\n",
      "------------------------------------------------------------------------\n",
      "Training for fold 4 ...\n",
      "Score for fold 4: loss of 0.18094544112682343; f1_score of 0.9054834246635437\n",
      "------------------------------------------------------------------------\n",
      "Training for fold 5 ...\n",
      "Score for fold 5: loss of 0.1654966026544571; f1_score of 0.9346405863761902\n"
     ]
    }
   ],
   "source": [
    "# Define the network, cost function and minimization method\n",
    "INPUT = {'inp_dim': X_std_np.shape[1],         \n",
    "         'n_nod': [100],                     # number of nodes in hidden layer (one layer, one node)\n",
    "         'act_fun': 'tanh',                 # activation functions for the hidden layer\n",
    "         'out_act_fun': 'softmax',          # output activation function, using sigmoid for binary classification\n",
    "         'opt_method': 'SGD',               # minimization method\n",
    "         'cost_fun': 'categorical_crossentropy', # error/cost function\n",
    "         'lr_rate': .1,                    # learningrate\n",
    "         'num_out' : 6 }              # if binary --> 1 |  regression--> num inputs | multi-class--> num of classes\n",
    "\n",
    "# Get the model\n",
    "model = pipeline_(**INPUT)\n",
    "\n",
    "num_folds = 5\n",
    "# Define the K-fold Cross Validator\n",
    "kfold = KFold(n_splits=num_folds, shuffle=True)\n",
    "\n",
    "# K-fold Cross Validation model evaluation\n",
    "fold_no = 1\n",
    "acc_per_fold = []\n",
    "loss_per_fold = []\n",
    "for train, test in kfold.split(X_std, one_hot_y):\n",
    "    # Generate a print\n",
    "    print('------------------------------------------------------------------------')\n",
    "    print(f'Training for fold {fold_no} ...')\n",
    "\n",
    "    # Fit data to model\n",
    "    history = model.fit(X_std_np[train], one_hot_y[train],\n",
    "                        epochs=1000,\n",
    "                        verbose=0)\n",
    "    \n",
    "    # Generate generalization metrics\n",
    "    scores = model.evaluate(X_std_np[test], one_hot_y[test], verbose=0)\n",
    "    print(f'Score for fold {fold_no}: {model.metrics_names[0]} of {scores[0]}; {model.metrics_names[1]} of {scores[1]}')\n",
    "    acc_per_fold.append(scores[1])\n",
    "    loss_per_fold.append(scores[0])\n",
    "\n",
    "    # Increase fold number\n",
    "    fold_no = fold_no + 1"
   ]
  },
  {
   "cell_type": "code",
   "execution_count": 18,
   "metadata": {},
   "outputs": [
    {
     "name": "stdout",
     "output_type": "stream",
     "text": [
      "Average Accuracy: 0.734%\n"
     ]
    }
   ],
   "source": [
    "print(f'Average Accuracy: {round(sum(acc_per_fold)/len(acc_per_fold),3)}%')"
   ]
  },
  {
   "cell_type": "code",
   "execution_count": 19,
   "metadata": {},
   "outputs": [
    {
     "name": "stdout",
     "output_type": "stream",
     "text": [
      "Average Loss: 0.79\n"
     ]
    }
   ],
   "source": [
    "print(f'Average Loss: {round(sum(loss_per_fold)/len(loss_per_fold),2)}')"
   ]
  },
  {
   "cell_type": "markdown",
   "metadata": {},
   "source": [
    "# Manual Grid Search"
   ]
  },
  {
   "cell_type": "markdown",
   "metadata": {},
   "source": [
    "We manually went through the following parameters in all combinations to see which ones would give the highest average accuracy and lowest average loss (The best selected is in bold in each list):<br>\n",
    "Number of Nodes:  [10, **100**, 200]   <br>\n",
    "Activation Function:  [**tanh**, sigmoid]    <br>\n",
    "Learning Rate:  [1, **0.1**, 0.01, 0.001]    <br>\n",
    "Epochs:  [10, 100, 200, **1000**]  "
   ]
  },
  {
   "cell_type": "markdown",
   "metadata": {},
   "source": [
    "# Train Model on Optimal Parameters"
   ]
  },
  {
   "cell_type": "code",
   "execution_count": 20,
   "metadata": {},
   "outputs": [],
   "source": [
    "# Define the network, cost function and minimization method\n",
    "INPUT = {'inp_dim': X_std_np.shape[1],         \n",
    "         'n_nod': [100],                     # number of nodes in hidden layer (one layer, one node)\n",
    "         'act_fun': 'tanh',                 # activation functions for the hidden layer\n",
    "         'out_act_fun': 'softmax',          # output activation function, using sigmoid for binary classification\n",
    "         'opt_method': 'SGD',               # minimization method\n",
    "         'cost_fun': 'categorical_crossentropy', # error/cost function\n",
    "         'lr_rate': 0.1,                    # learningrate\n",
    "         'num_out' : 6 }              # if binary --> 1 |  regression--> num inputs | multi-class--> num of classes\n",
    "\n",
    "# Get the model\n",
    "final = pipeline_(**INPUT)\n",
    "\n",
    "#fit the model\n",
    "final.fit(X_std_np, one_hot_y, epochs=1000, verbose=0);"
   ]
  },
  {
   "cell_type": "markdown",
   "metadata": {},
   "source": [
    "# Run Test Data"
   ]
  },
  {
   "cell_type": "code",
   "execution_count": 21,
   "metadata": {},
   "outputs": [],
   "source": [
    "#Load and prepare the test data\n",
    "df_test = pd.read_csv(TEST) #test dataframe\n",
    "\n",
    "attributes = list(df_test.columns)[:-1]\n",
    "\n",
    "X_test = df_test[attributes].copy() #attributes\n",
    "y_test = df_test['type'].copy() #true values\n",
    "\n",
    "for i in range(len(y_test)): #makes labels run 0,1,2,3,4,5, rather than 1,2,3,5,6,7\n",
    "    if y_test[i] > 4:\n",
    "        y_test[i] = y_test[i] - 2\n",
    "    else:\n",
    "        y_test[i] = y_test[i] - 1\n",
    "        \n",
    "X_test = z_score(X_test) #standardise\n",
    "\n",
    "one_hot_y_test = np.zeros((X_test.shape[0], len(y_test.unique()))) # one hot labels\n",
    "for i in range(X_test.shape[0]):\n",
    "    one_hot_y_test[i, y2[i]] = 1"
   ]
  },
  {
   "cell_type": "code",
   "execution_count": 22,
   "metadata": {},
   "outputs": [
    {
     "name": "stdout",
     "output_type": "stream",
     "text": [
      "\n",
      " ########## Result for Test Data ########## \n",
      "\n",
      "log_loss:    7.329106158196989\n",
      "accuracy:    0.27692307692307694 \n",
      "\n",
      "F1:          0.2794687768371979 \n",
      "\n",
      "              precision    recall  f1-score   support\n",
      "\n",
      "     class 1       0.32      0.35      0.33        20\n",
      "     class 2       0.40      0.40      0.40        20\n",
      "     class 3       0.20      0.17      0.18         6\n",
      "     class 4       0.00      0.00      0.00         3\n",
      "     class 5       0.33      0.20      0.25         5\n",
      "     class 6       0.12      0.09      0.11        11\n",
      "\n",
      "    accuracy                           0.28        65\n",
      "   macro avg       0.23      0.20      0.21        65\n",
      "weighted avg       0.29      0.28      0.28        65\n",
      "\n"
     ]
    },
    {
     "data": {
      "image/png": "[encoded data removed]",
      "text/plain": [
       "<Figure size 576x432 with 2 Axes>"
      ]
     },
     "metadata": {
      "needs_background": "light"
     },
     "output_type": "display_data"
    }
   ],
   "source": [
    "print('\\n','#'*10,'Result for {} Data'.format('Test'), '#'*10, '\\n')\n",
    "\n",
    "y_pred = final.predict(X_test, verbose=0 )\n",
    "print('log_loss:   ', log_loss(one_hot_y_test, y_pred, eps=1e-15))\n",
    "\n",
    "y_true = one_hot_y_test.argmax(axis=1)\n",
    "y_pred = y_pred.argmax(axis=1)\n",
    "print('accuracy:   ',(y_pred==y_true).mean(), '\\n')\n",
    "f1 = f1_score(y_true, y_pred, average='weighted')\n",
    "print(f'F1:          {f1}', '\\n')\n",
    "\n",
    "target_names = ['class {}'.format(i+1) for i in range(6)]\n",
    "print(classification_report(y_true, y_pred, target_names=target_names))\n",
    "\n",
    "confuTst = confusion_matrix(y_true, y_pred)\n",
    "plot_confusion_matrix(cm           = confuTst, \n",
    "                      normalize    = False,\n",
    "                      target_names = ['0','1', '2', '3', '4', '5'],\n",
    "                      title        = \"Confusion Matrix: Test data\")"
   ]
  },
  {
   "cell_type": "markdown",
   "metadata": {},
   "source": [
    "## PCA"
   ]
  },
  {
   "cell_type": "code",
   "execution_count": 23,
   "metadata": {},
   "outputs": [],
   "source": [
    "pca = PCA(n_components=7) # 99% of the data explained.\n",
    "pca.fit(X)\n",
    "\n",
    "X = pd.DataFrame(pca.transform(X))\n",
    "X = z_score(X)\n",
    "\n",
    "X_test = pd.DataFrame(pca.transform(X_test))\n",
    "X_test = z_score(X_test)"
   ]
  },
  {
   "cell_type": "code",
   "execution_count": 24,
   "metadata": {},
   "outputs": [
    {
     "name": "stdout",
     "output_type": "stream",
     "text": [
      "------------------------------------------------------------------------\n",
      "Training for fold 1 ...\n",
      "Score for fold 1: loss of 1.757181167602539; f1_score of 0.5003418922424316\n",
      "------------------------------------------------------------------------\n",
      "Training for fold 2 ...\n",
      "Score for fold 2: loss of 1.3919978141784668; f1_score of 0.6946570873260498\n",
      "------------------------------------------------------------------------\n",
      "Training for fold 3 ...\n",
      "Score for fold 3: loss of 0.70925372838974; f1_score of 0.7736842036247253\n",
      "------------------------------------------------------------------------\n",
      "Training for fold 4 ...\n",
      "Score for fold 4: loss of 0.4376763701438904; f1_score of 0.9269005656242371\n",
      "------------------------------------------------------------------------\n",
      "Training for fold 5 ...\n",
      "Score for fold 5: loss of 0.3064556419849396; f1_score of 0.740079402923584\n",
      "Average F1: 0.727\n",
      "Average Loss: 0.92\n"
     ]
    }
   ],
   "source": [
    "# Use K-fold to find optimum model parameters\n",
    "INPUT = {'inp_dim': X.shape[1],         \n",
    "         'n_nod': [50],                     # number of nodes in hidden layer (one layer, one node)\n",
    "         'act_fun': 'tanh',                 # activation functions for the hidden layer\n",
    "         'out_act_fun': 'softmax',          # output activation function, using sigmoid for binary classification\n",
    "         'opt_method': 'SGD',               # minimization method\n",
    "         'cost_fun': 'categorical_crossentropy', # error/cost function\n",
    "         'lr_rate': 0.1,                    # learningrate\n",
    "         'num_out' : 6 }              # if binary --> 1 |  regression--> num inputs | multi-class--> num of classes\n",
    "\n",
    "# Get the model\n",
    "model = pipeline_(**INPUT)\n",
    "\n",
    "num_folds = 5\n",
    "# Define the K-fold Cross Validator\n",
    "kfold = KFold(n_splits=num_folds, shuffle=True)\n",
    "\n",
    "# K-fold Cross Validation model evaluation\n",
    "fold_no = 1\n",
    "f1_per_fold = []\n",
    "loss_per_fold = []\n",
    "for train, test in kfold.split(X, one_hot_y):\n",
    "    # Generate a print\n",
    "    print('------------------------------------------------------------------------')\n",
    "    print(f'Training for fold {fold_no} ...')\n",
    "\n",
    "    # Fit data to model\n",
    "    history = model.fit(X.iloc[train], one_hot_y[train],\n",
    "                        epochs=1500,\n",
    "                        verbose=0)\n",
    "    \n",
    "    # Generate generalization metrics\n",
    "    scores = model.evaluate(X.iloc[test], one_hot_y[test], verbose=0)\n",
    "    print(f'Score for fold {fold_no}: {model.metrics_names[0]} of {scores[0]}; {model.metrics_names[1]} of {scores[1]}')\n",
    "    f1_per_fold.append(scores[1])\n",
    "    loss_per_fold.append(scores[0])\n",
    "\n",
    "    # Increase fold number\n",
    "    fold_no = fold_no + 1\n",
    "    \n",
    "print(f'Average F1: {round(sum(f1_per_fold)/len(f1_per_fold),3)}')\n",
    "print(f'Average Loss: {round(sum(loss_per_fold)/len(loss_per_fold),2)}')"
   ]
  },
  {
   "cell_type": "markdown",
   "metadata": {},
   "source": [
    "# Manual Grid Search"
   ]
  },
  {
   "cell_type": "markdown",
   "metadata": {},
   "source": [
    "We manually went through the following parameters in all combinations to see which ones would give the highest average accuracy and lowest average loss (The best selected is in bold in each list):<br>\n",
    "Number of Nodes:  [10, **50**, 100]   <br>\n",
    "Learning Rate:  [1, **0.1**, 0.01]    <br>\n",
    "Epochs:  [10, 100, **1000**, 1500]"
   ]
  },
  {
   "cell_type": "markdown",
   "metadata": {},
   "source": [
    "# Final Test"
   ]
  },
  {
   "cell_type": "code",
   "execution_count": 25,
   "metadata": {},
   "outputs": [],
   "source": [
    "# Define the network, cost function and minimization method\n",
    "INPUT = {'inp_dim': X.shape[1],         \n",
    "         'n_nod': [50],                     # number of nodes in hidden layer (one layer, one node)\n",
    "         'act_fun': 'tanh',                 # activation functions for the hidden layer\n",
    "         'out_act_fun': 'softmax',          # output activation function, using sigmoid for binary classification\n",
    "         'opt_method': 'SGD',               # minimization method\n",
    "         'cost_fun': 'categorical_crossentropy', # error/cost function\n",
    "         'lr_rate': 0.1,                    # learningrate\n",
    "         'num_out' : 6 }              # if binary --> 1 |  regression--> num inputs | multi-class--> num of classes\n",
    "\n",
    "# Get the model\n",
    "final = pipeline_(**INPUT)\n",
    "\n",
    "#fit the model\n",
    "final.fit(X, one_hot_y, epochs=1000, verbose=0);"
   ]
  },
  {
   "cell_type": "code",
   "execution_count": 26,
   "metadata": {},
   "outputs": [
    {
     "name": "stdout",
     "output_type": "stream",
     "text": [
      "\n",
      " ########## Result for Test Data ########## \n",
      "\n",
      "log_loss:    5.9674341361253305\n",
      "accuracy:    0.18461538461538463\n",
      "F1:          0.1804956778640989 \n",
      "\n",
      "              precision    recall  f1-score   support\n",
      "\n",
      "     class 1       0.21      0.30      0.25        20\n",
      "     class 2       0.24      0.20      0.22        20\n",
      "     class 3       0.00      0.00      0.00         6\n",
      "     class 4       0.00      0.00      0.00         3\n",
      "     class 5       0.33      0.20      0.25         5\n",
      "     class 6       0.12      0.09      0.11        11\n",
      "\n",
      "    accuracy                           0.18        65\n",
      "   macro avg       0.15      0.13      0.14        65\n",
      "weighted avg       0.19      0.18      0.18        65\n",
      "\n"
     ]
    },
    {
     "data": {
      "image/png": "[encoded data removed]",
      "text/plain": [
       "<Figure size 576x432 with 2 Axes>"
      ]
     },
     "metadata": {
      "needs_background": "light"
     },
     "output_type": "display_data"
    }
   ],
   "source": [
    "print('\\n','#'*10,'Result for {} Data'.format('Test'), '#'*10, '\\n')\n",
    "\n",
    "y_pred = final.predict(X_test, verbose=0 )\n",
    "print('log_loss:   ', log_loss(one_hot_y_test, y_pred, eps=1e-15))\n",
    "\n",
    "y_true = one_hot_y_test.argmax(axis=1)\n",
    "y_pred = y_pred.argmax(axis=1)\n",
    "print('accuracy:   ',(y_pred==y_true).mean())\n",
    "\n",
    "f1 = f1_score(y_true, y_pred, average='weighted')\n",
    "print(f'F1:          {f1}', '\\n')\n",
    "\n",
    "target_names = ['class {}'.format(i+1) for i in range(6)]\n",
    "print(classification_report(y_true, y_pred, target_names=target_names))\n",
    "\n",
    "confuTst = confusion_matrix(y_true, y_pred)\n",
    "plot_confusion_matrix(cm           = confuTst, \n",
    "                      normalize    = False,\n",
    "                      target_names = ['0','1', '2', '3', '4', '5'],\n",
    "                      title        = \"Confusion Matrix: Test data\")"
   ]
  }
 ],
 "metadata": {
  "kernelspec": {
   "display_name": "Python 3",
   "language": "python",
   "name": "python3"
  },
  "language_info": {
   "codemirror_mode": {
    "name": "ipython",
    "version": 3
   },
   "file_extension": ".py",
   "mimetype": "text/x-python",
   "name": "python",
   "nbconvert_exporter": "python",
   "pygments_lexer": "ipython3",
   "version": "3.8.5"
  }
 },
 "nbformat": 4,
 "nbformat_minor": 4
}
