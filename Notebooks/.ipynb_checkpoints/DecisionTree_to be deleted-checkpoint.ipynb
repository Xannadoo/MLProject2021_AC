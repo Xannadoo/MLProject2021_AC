{
 "cells": [
  {
   "cell_type": "markdown",
   "metadata": {},
   "source": [
    "## Imports"
   ]
  },
  {
   "cell_type": "code",
   "execution_count": null,
   "metadata": {},
   "outputs": [],
   "source": [
    "import numpy as np\n",
    "import pandas as pd\n",
    "\n",
    "import matplotlib.pyplot as plt\n",
    "import seaborn as sns\n",
    "\n",
    "from collections import Counter\n",
    "\n",
    "from sklearn.tree import DecisionTreeClassifier\n",
    "from sklearn import tree"
   ]
  },
  {
   "cell_type": "markdown",
   "metadata": {},
   "source": [
    "## Paths"
   ]
  },
  {
   "cell_type": "code",
   "execution_count": null,
   "metadata": {},
   "outputs": [],
   "source": [
    "TRAIN = '../Data/df_train.csv'\n",
    "TEST = '../Data/df_test.csv'"
   ]
  },
  {
   "cell_type": "markdown",
   "metadata": {},
   "source": [
    "## Functions"
   ]
  },
  {
   "cell_type": "code",
   "execution_count": null,
   "metadata": {},
   "outputs": [],
   "source": [
    "z_score = lambda x : (x-np.mean(x,axis=0))/ np.std(x,axis=0) #code from exercise 5"
   ]
  },
  {
   "cell_type": "markdown",
   "metadata": {},
   "source": [
    "## Variables and df loading"
   ]
  },
  {
   "cell_type": "code",
   "execution_count": null,
   "metadata": {},
   "outputs": [],
   "source": [
    "col = 'tab10' #colour theme\n",
    "\n",
    "df = pd.read_csv(TRAIN) #training dataframe\n",
    "\n",
    "attributes = list(df.columns)[:-1] #creates list of column names for later\n",
    "\n",
    "X = df[attributes].copy() #attributes\n",
    "y = df['type'].copy() #true values\n",
    "\n",
    "y_types = {1:'wind_float', 2:'wind_non', 3:'wind_veh', 5:'container', 6:'tableware', 7:'headlamp'}\n",
    "y_list = y.unique() #'y' values\n",
    "\n",
    "X_std = z_score(X) #standardizes X as later we see they are on different scales\n",
    "\n",
    "for i in y_list: #this changes the 'type' to a descriptive word rather than a number\n",
    "    #This is more human readable for plotting later - 'y' is still using the numbers\n",
    "    df['type'][df['type'] == i] = y_types[i]"
   ]
  },
  {
   "cell_type": "code",
   "execution_count": null,
   "metadata": {
    "scrolled": false
   },
   "outputs": [],
   "source": [
    "def Gini(df, y, threshold):\n",
    "    '''Takes a threshold and calc the Gini impurity of each split of the given df and class'''\n",
    "    df = pd.concat([df,y], axis=1,)\n",
    "    df.columns=['Att', 'class']\n",
    "    # Split the Input data into side a and b\n",
    "    df_a = df[df['Att'] >= threshold] #check what the accepted standard for the equals bit is\n",
    "    df_b = df[df['Att'] < threshold]\n",
    "    # calc and return gini impurity for each side\n",
    "   \n",
    "    gini_a = 0\n",
    "    gini_b = 0\n",
    "\n",
    "    for class_ in y_list:\n",
    "        \n",
    "        # Add total of each class\n",
    "        class_tot_a = 0\n",
    "        class_tot_b = 0\n",
    "        for i in range(len(df_a)):\n",
    "            # Add the total in a of this class\n",
    "            if df_a['class'].iloc[i] == class_:\n",
    "                class_tot_a +=1\n",
    "        for i in range(len(df_b)):\n",
    "            # Add the total in b of this class\n",
    "            if df_b['class'].iloc[i] == class_:\n",
    "                class_tot_b +=1 \n",
    "        #print(class_tot_a)\n",
    "        \n",
    "        # side a\n",
    "        p_a = class_tot_a/len(df_a) # proportion of this class out of total points on side a (k/N)\n",
    "        # Probability of class\n",
    "        left = p_a *(1-p_a) \n",
    "        \n",
    "        # b\n",
    "        p_b = class_tot_b/len(df_b) # proportion of this class out of total points on side b\n",
    "        # Probability of class\n",
    "        right = p_b *(1-p_b)\n",
    "    \n",
    "        gini_a += left\n",
    "        gini_b += right\n",
    "        \n",
    "    return ((len(df_a)/len(df))*gini_a) + ((len(df_b)/len(df))*gini_b)\n",
    "\n",
    "    \n",
    "print(Gini(df['Ba'], y, 0.4))"
   ]
  },
  {
   "cell_type": "code",
   "execution_count": null,
   "metadata": {},
   "outputs": [],
   "source": [
    "def Gini_2(df, y, threshold):#, class_):\n",
    "    df = pd.concat([df,y], axis=1,)\n",
    "    df.columns=['Att', 'class']\n",
    "    '''Takes a threshold and calc the Gini impurity of each split of the given df and class'''\n",
    "    \n",
    "    # Split the Input data into side a and b\n",
    "    df_a = df[df['Att'] >= threshold]\n",
    "    df_b = df[df['Att'] < threshold]\n",
    "    \n",
    "    left_class_count = np.zeros((8), dtype=int)\n",
    "    right_class_count = np.zeros((8), dtype=int)\n",
    "    for i in range(len(df_a)):\n",
    "        left_class_count[df_a['class'].iloc[i]]+=1\n",
    "    for i in range(len(df_b)):\n",
    "        right_class_count[df_b['class'].iloc[i]]+=1        \n",
    "    left_class_count = np.delete(left_class_count, [0,4])\n",
    "    right_class_count = np.delete(right_class_count, [0,4])\n",
    "    \n",
    "    print(left_class_count, right_class_count)\n",
    "    \n",
    "    left_proportion = [left_class_count[i]/np.sum(left_class_count) for i in range(len(left_class_count))]\n",
    "    right_proportion = [right_class_count[i]/np.sum(right_class_count) for i in range(len(right_class_count))]\n",
    "    print(left_proportion, right_proportion)\n",
    "    \n",
    "    left_gini = 0\n",
    "    for i in range(len(left_proportion)):\n",
    "        left_gini += left_proportion[i]*(1-left_proportion[i])\n",
    "    \n",
    "    right_gini = 0\n",
    "    for i in range(len(right_proportion)):\n",
    "        right_gini += right_proportion[i]*(1-right_proportion[i])    \n",
    "    print(left_gini, right_gini)\n",
    "    \n",
    "    Gini = (left_gini * sum(left_class_count)/len(df)) + (right_gini * sum(right_class_count)/len(df))\n",
    "    print(Gini)\n",
    "\n",
    "    return()\n",
    "\n",
    "    \n",
    "print(Gini_2(df['Ba'], y, 0.4))"
   ]
  },
  {
   "cell_type": "code",
   "execution_count": null,
   "metadata": {},
   "outputs": [],
   "source": [
    "df = pd.concat([df['Ba'],y], axis=1,)\n",
    "df.columns=['Att', 'class']\n",
    "\n",
    "class_count = np.zeros((8), dtype=int)\n",
    "for i in range(len(df)):\n",
    "    class_count[df['class'].iloc[i]]+=1        \n",
    "class_count = np.delete(class_count, [0,4])\n",
    "print(class_count)\n",
    "    \n",
    "proportion = [class_count[i]/np.sum(class_count) for i in range(len(class_count))]\n",
    "print(proportion)\n",
    "    \n",
    "gini = 0\n",
    "for i in range(len(proportion)):\n",
    "    gini += proportion[i]*(1-proportion[i])\n",
    "    \n",
    "#Gini = (left_gini * sum(left_class_count)/len(df)) + (right_gini * sum(right_class_count)/len(df))\n",
    "print(gini)"
   ]
  },
  {
   "cell_type": "code",
   "execution_count": null,
   "metadata": {},
   "outputs": [],
   "source": [
    "def leaf_hunter(df=df, class_list=y_list):\n",
    "    '''takes df and class returns highest gini gain, best class, best threshold, and \n",
    "    best attribute'''\n",
    "    #So many loops! \n",
    "    best_gini_gain = 0\n",
    "    best_class = ''\n",
    "    best_threshold = ''\n",
    "    best_att = ''\n",
    "    \n",
    "    for cl in y_list:\n",
    "        '''loop through classes'''\n",
    "        for a in attributes:\n",
    "            tmp = df.sort_values(by=a, axis=0).copy()\n",
    "                #print(a)\n",
    "                #loop through attributes\n",
    "            for threshold in range(len(df)-1):\n",
    "                '''loop through potential thresholds'''\n",
    "                if tmp[a].iloc[threshold] == tmp[a].iloc[threshold+1]:\n",
    "                    pass\n",
    "                else:\n",
    "                    # Threshold is halfway in between two datapoints\n",
    "                    thresh = ((tmp[a].iloc[threshold] + tmp[a].iloc[threshold+1])/2)\n",
    "                    #print((tmp[a].iloc[threshold], tmp[a].iloc[threshold+1]), thresh)       \n",
    "                    g_gain = Gini(df[a], y, thresh)#, cl)\n",
    "                    if g_gain > best_gini_gain:\n",
    "                        best_gini_gain = g_gain\n",
    "                        best_class = cl\n",
    "                        best_threshold = thresh\n",
    "                        best_att = a\n",
    "    return best_gini_gain, best_class, best_threshold, best_att\n",
    "            \n",
    "best_gini_gain, best_class, best_threshold, best_att = leaf_hunter()\n",
    "\n",
    "print(best_gini_gain, best_class, best_threshold, best_att)"
   ]
  },
  {
   "cell_type": "code",
   "execution_count": null,
   "metadata": {},
   "outputs": [],
   "source": [
    "plt.scatter([i for i in range(149)], df[best_att], c=y, cmap=col)\n",
    "plt.hlines(best_threshold, 0, 149);"
   ]
  },
  {
   "cell_type": "code",
   "execution_count": null,
   "metadata": {},
   "outputs": [],
   "source": [
    "clf = DecisionTreeClassifier(max_depth=1)\n",
    "model = clf.fit(X, y)"
   ]
  },
  {
   "cell_type": "code",
   "execution_count": null,
   "metadata": {},
   "outputs": [],
   "source": [
    "fig = plt.figure(figsize=(10,7))\n",
    "_ = tree.plot_tree(model, filled= True)"
   ]
  },
  {
   "cell_type": "code",
   "execution_count": null,
   "metadata": {},
   "outputs": [],
   "source": [
    "X.head()"
   ]
  },
  {
   "cell_type": "code",
   "execution_count": null,
   "metadata": {},
   "outputs": [],
   "source": [
    "for a in attributes:\n",
    "    print(a, len(X[X[a] <= 0.4]))"
   ]
  },
  {
   "cell_type": "code",
   "execution_count": null,
   "metadata": {},
   "outputs": [],
   "source": [
    "plt.scatter([i for i in range(149)], df['Ba'], c=y, cmap=col)\n",
    "plt.hlines(0.4, 0, 149);"
   ]
  },
  {
   "cell_type": "code",
   "execution_count": null,
   "metadata": {},
   "outputs": [],
   "source": []
  }
 ],
 "metadata": {
  "kernelspec": {
   "display_name": "Python 3",
   "language": "python",
   "name": "python3"
  },
  "language_info": {
   "codemirror_mode": {
    "name": "ipython",
    "version": 3
   },
   "file_extension": ".py",
   "mimetype": "text/x-python",
   "name": "python",
   "nbconvert_exporter": "python",
   "pygments_lexer": "ipython3",
   "version": "3.8.5"
  }
 },
 "nbformat": 4,
 "nbformat_minor": 4
}
